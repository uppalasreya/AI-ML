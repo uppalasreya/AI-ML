{
  "nbformat": 4,
  "nbformat_minor": 0,
  "metadata": {
    "colab": {
      "name": "01-06-2020",
      "provenance": [],
      "collapsed_sections": [],
      "authorship_tag": "ABX9TyNDJNC3WOMWKokSHfbL8GKB",
      "include_colab_link": true
    },
    "kernelspec": {
      "name": "python3",
      "display_name": "Python 3"
    }
  },
  "cells": [
    {
      "cell_type": "markdown",
      "metadata": {
        "id": "view-in-github",
        "colab_type": "text"
      },
      "source": [
        "<a href=\"https://colab.research.google.com/github/uppalasreya/AI-ML/blob/master/01_06_2020.ipynb\" target=\"_parent\"><img src=\"https://colab.research.google.com/assets/colab-badge.svg\" alt=\"Open In Colab\"/></a>"
      ]
    },
    {
      "cell_type": "markdown",
      "metadata": {
        "id": "U9O3pPNpYWAS",
        "colab_type": "text"
      },
      "source": [
        "### Tuple:\n",
        "1. Immutable(changes are not allowed)\n",
        "2. use ( ) and elements are seperated by ,\n",
        "3. Indexed,Ordered,ALlows duplicate values"
      ]
    },
    {
      "cell_type": "code",
      "metadata": {
        "id": "urHF7boiYbym",
        "colab_type": "code",
        "outputId": "ad1c6b18-dc16-4c7c-8f9d-f92a7e6d51ef",
        "colab": {
          "base_uri": "https://localhost:8080/",
          "height": 34
        }
      },
      "source": [
        "#Tuple \n",
        "tup1 = (12,3,345.56,\"abc\",True)\n",
        "print(type(tup1))"
      ],
      "execution_count": 0,
      "outputs": [
        {
          "output_type": "stream",
          "text": [
            "<class 'tuple'>\n"
          ],
          "name": "stdout"
        }
      ]
    },
    {
      "cell_type": "code",
      "metadata": {
        "id": "QHglkQA9cVaN",
        "colab_type": "code",
        "outputId": "91d08652-49db-4c0d-d369-240a9acff2a0",
        "colab": {
          "base_uri": "https://localhost:8080/",
          "height": 51
        }
      },
      "source": [
        "print(tup1[2])\n",
        "print(tup1[-1])"
      ],
      "execution_count": 0,
      "outputs": [
        {
          "output_type": "stream",
          "text": [
            "345.56\n",
            "True\n"
          ],
          "name": "stdout"
        }
      ]
    },
    {
      "cell_type": "code",
      "metadata": {
        "id": "5SK0VRTqcfOi",
        "colab_type": "code",
        "outputId": "75f5a0ef-e2fb-4e24-d26f-de5ccaec2392",
        "colab": {
          "base_uri": "https://localhost:8080/",
          "height": 34
        }
      },
      "source": [
        "list1 = list(tup1)\n",
        "list1[2] = 100\n",
        "tup1 = tuple(list1)\n",
        "print(tup1)"
      ],
      "execution_count": 0,
      "outputs": [
        {
          "output_type": "stream",
          "text": [
            "(12, 3, 100, 'abc', True)\n"
          ],
          "name": "stdout"
        }
      ]
    },
    {
      "cell_type": "markdown",
      "metadata": {
        "id": "svVKyjItdX4I",
        "colab_type": "text"
      },
      "source": [
        "### Built-in methods:\n",
        "1. count()\n",
        "2. index()"
      ]
    },
    {
      "cell_type": "code",
      "metadata": {
        "id": "QgxbVwM5dcKt",
        "colab_type": "code",
        "outputId": "dc0c7132-3800-45cd-d858-ca5f5d088406",
        "colab": {
          "base_uri": "https://localhost:8080/",
          "height": 51
        }
      },
      "source": [
        "print(tup1.count(12))\n",
        "print(tup1.index(12))"
      ],
      "execution_count": 0,
      "outputs": [
        {
          "output_type": "stream",
          "text": [
            "1\n",
            "0\n"
          ],
          "name": "stdout"
        }
      ]
    },
    {
      "cell_type": "markdown",
      "metadata": {
        "id": "K3jmTzOidoSH",
        "colab_type": "text"
      },
      "source": [
        "### packing and Unpacking"
      ]
    },
    {
      "cell_type": "code",
      "metadata": {
        "id": "GpfVKJPDeVoO",
        "colab_type": "code",
        "outputId": "8de93b65-8d0d-4557-8c30-2dc97de0bf71",
        "colab": {
          "base_uri": "https://localhost:8080/",
          "height": 34
        }
      },
      "source": [
        "#unpacking\n",
        "tup2 = (12,232,4,354)\n",
        "a,b,c,d = tup2\n",
        "print(d)"
      ],
      "execution_count": 0,
      "outputs": [
        {
          "output_type": "stream",
          "text": [
            "354\n"
          ],
          "name": "stdout"
        }
      ]
    },
    {
      "cell_type": "code",
      "metadata": {
        "id": "LlptrHTHeaQa",
        "colab_type": "code",
        "outputId": "fde2e362-a9a1-4d9d-8b33-61d75b3570df",
        "colab": {
          "base_uri": "https://localhost:8080/",
          "height": 51
        }
      },
      "source": [
        "#packing\n",
        "x = 10,20,30\n",
        "print(type(x))\n",
        "print(x)"
      ],
      "execution_count": 0,
      "outputs": [
        {
          "output_type": "stream",
          "text": [
            "<class 'tuple'>\n",
            "(10, 20, 30)\n"
          ],
          "name": "stdout"
        }
      ]
    },
    {
      "cell_type": "code",
      "metadata": {
        "id": "oEkwQ2yfeewX",
        "colab_type": "code",
        "outputId": "f5212fc3-0f86-4f0f-f043-87994bbd4e24",
        "colab": {
          "base_uri": "https://localhost:8080/",
          "height": 34
        }
      },
      "source": [
        "#Tuple with single element\n",
        "y = (10,)\n",
        "print(type(y))"
      ],
      "execution_count": 0,
      "outputs": [
        {
          "output_type": "stream",
          "text": [
            "<class 'tuple'>\n"
          ],
          "name": "stdout"
        }
      ]
    },
    {
      "cell_type": "code",
      "metadata": {
        "id": "d_jA7fEVepQV",
        "colab_type": "code",
        "outputId": "412ef9e1-aac7-48d3-c010-224ace33a93a",
        "colab": {
          "base_uri": "https://localhost:8080/",
          "height": 34
        }
      },
      "source": [
        "#Iterating through tuple\n",
        "for ele in x:\n",
        "    print(ele,end=\" \")"
      ],
      "execution_count": 0,
      "outputs": [
        {
          "output_type": "stream",
          "text": [
            "10 20 30 "
          ],
          "name": "stdout"
        }
      ]
    },
    {
      "cell_type": "markdown",
      "metadata": {
        "id": "bmTkt71Je_Ru",
        "colab_type": "text"
      },
      "source": [
        "### set:\n",
        "1. { }\n",
        "2. Does not allow duplicate values\n",
        "3. Not ordered\n",
        "4. unindexed\n",
        "5.  Mutable"
      ]
    },
    {
      "cell_type": "code",
      "metadata": {
        "id": "1JA5hPxkfGZ9",
        "colab_type": "code",
        "outputId": "b26ae6da-1a35-44ae-d4a5-bea760fb0fd9",
        "colab": {
          "base_uri": "https://localhost:8080/",
          "height": 34
        }
      },
      "source": [
        "set1 = {1,2,334,45,5,6,2,1}\n",
        "print(set1)"
      ],
      "execution_count": 0,
      "outputs": [
        {
          "output_type": "stream",
          "text": [
            "{1, 2, 5, 6, 45, 334}\n"
          ],
          "name": "stdout"
        }
      ]
    },
    {
      "cell_type": "code",
      "metadata": {
        "id": "77AGGdWofUm2",
        "colab_type": "code",
        "outputId": "b00f6187-f684-49d8-cb5e-54776bd21636",
        "colab": {
          "base_uri": "https://localhost:8080/",
          "height": 119
        }
      },
      "source": [
        "#Iterating through set\n",
        "for ele in set1:\n",
        "    print(ele)"
      ],
      "execution_count": 0,
      "outputs": [
        {
          "output_type": "stream",
          "text": [
            "1\n",
            "2\n",
            "5\n",
            "6\n",
            "45\n",
            "334\n"
          ],
          "name": "stdout"
        }
      ]
    },
    {
      "cell_type": "markdown",
      "metadata": {
        "id": "J8el1huofZD_",
        "colab_type": "text"
      },
      "source": [
        "### Built-in functions:\n",
        "1. len()\n",
        "2. min()\n",
        "3. max()\n",
        "4. set()"
      ]
    },
    {
      "cell_type": "code",
      "metadata": {
        "id": "g98CC9d4fjIB",
        "colab_type": "code",
        "outputId": "6c3824a9-73bf-4e1a-8c27-901064a554d2",
        "colab": {
          "base_uri": "https://localhost:8080/",
          "height": 85
        }
      },
      "source": [
        "print(set1)\n",
        "print(len(set1))\n",
        "print(min(set1))\n",
        "print(max(set1))"
      ],
      "execution_count": 0,
      "outputs": [
        {
          "output_type": "stream",
          "text": [
            "{1, 2, 5, 6, 45, 334}\n",
            "6\n",
            "1\n",
            "334\n"
          ],
          "name": "stdout"
        }
      ]
    },
    {
      "cell_type": "code",
      "metadata": {
        "id": "wVVi1yEJhM2S",
        "colab_type": "code",
        "outputId": "72431b1a-c368-45ef-b9ce-7354d1955599",
        "colab": {
          "base_uri": "https://localhost:8080/",
          "height": 34
        }
      },
      "source": [
        "#Removing duplicates from the list\n",
        "list1 = [1,2,3,4,5,1,2,3]\n",
        "list1 = set(list1)\n",
        "list1"
      ],
      "execution_count": 0,
      "outputs": [
        {
          "output_type": "execute_result",
          "data": {
            "text/plain": [
              "{1, 2, 3, 4, 5}"
            ]
          },
          "metadata": {
            "tags": []
          },
          "execution_count": 16
        }
      ]
    },
    {
      "cell_type": "markdown",
      "metadata": {
        "id": "Q1VyfEQSh2Bj",
        "colab_type": "text"
      },
      "source": [
        "## Built-in Methods:\n",
        "\n",
        "### Adding an element\n",
        "1. add()\n",
        "\n",
        "\n",
        "### Removing an element\n",
        "1. pop()\n",
        "2. remove()\n",
        "3. discard()\n",
        "4. clear()\n",
        "\n",
        "\n",
        "### Other operations:\n",
        "1. union()\n",
        "2. intersection()\n",
        "3. difference()\n",
        "4. symmetric_difference()\n",
        "5. issubset()\n",
        "6. issuperset()\n",
        "7. isdisjoint()\n",
        "8. update()\n",
        "9. intersection_update()\n",
        "10. difference_update()\n",
        "11. symmetric_difference_update()"
      ]
    },
    {
      "cell_type": "code",
      "metadata": {
        "id": "Jm5eegArifeL",
        "colab_type": "code",
        "outputId": "5183508d-d607-4cdb-a40c-6c9770d5e0ef",
        "colab": {
          "base_uri": "https://localhost:8080/",
          "height": 34
        }
      },
      "source": [
        "set2 = set()\n",
        "print(type(set2))"
      ],
      "execution_count": 0,
      "outputs": [
        {
          "output_type": "stream",
          "text": [
            "<class 'set'>\n"
          ],
          "name": "stdout"
        }
      ]
    },
    {
      "cell_type": "code",
      "metadata": {
        "id": "DNe3Ac01je_Q",
        "colab_type": "code",
        "outputId": "7fe3526a-ef8e-4601-f258-3767a8735f88",
        "colab": {
          "base_uri": "https://localhost:8080/",
          "height": 34
        }
      },
      "source": [
        "#Adding an element\n",
        "set2.add(12)\n",
        "set2.add(23)\n",
        "set2.add(100)\n",
        "set2"
      ],
      "execution_count": 0,
      "outputs": [
        {
          "output_type": "execute_result",
          "data": {
            "text/plain": [
              "{12, 23, 100}"
            ]
          },
          "metadata": {
            "tags": []
          },
          "execution_count": 20
        }
      ]
    },
    {
      "cell_type": "code",
      "metadata": {
        "id": "Q27gWyt3j6L-",
        "colab_type": "code",
        "outputId": "c980a2d8-7fb7-44f8-9e39-70e6220ecfe3",
        "colab": {
          "base_uri": "https://localhost:8080/",
          "height": 34
        }
      },
      "source": [
        "#Removes an element from the set\n",
        "set2.pop()"
      ],
      "execution_count": 0,
      "outputs": [
        {
          "output_type": "execute_result",
          "data": {
            "text/plain": [
              "100"
            ]
          },
          "metadata": {
            "tags": []
          },
          "execution_count": 21
        }
      ]
    },
    {
      "cell_type": "code",
      "metadata": {
        "id": "IRZqC_i9v4YL",
        "colab_type": "code",
        "outputId": "086fd5a1-7bb6-486f-a93a-5dc50e960cd9",
        "colab": {
          "base_uri": "https://localhost:8080/",
          "height": 34
        }
      },
      "source": [
        "#Removes the specified element from the set if it is present\n",
        "#else it throws an error\n",
        "set2.remove(12)\n",
        "set2"
      ],
      "execution_count": 0,
      "outputs": [
        {
          "output_type": "execute_result",
          "data": {
            "text/plain": [
              "{23}"
            ]
          },
          "metadata": {
            "tags": []
          },
          "execution_count": 22
        }
      ]
    },
    {
      "cell_type": "code",
      "metadata": {
        "id": "juiXmxeoxz4G",
        "colab_type": "code",
        "outputId": "7864a427-3c80-4a81-8a91-6465873b7328",
        "colab": {
          "base_uri": "https://localhost:8080/",
          "height": 34
        }
      },
      "source": [
        "set2.clear()\n",
        "set2"
      ],
      "execution_count": 0,
      "outputs": [
        {
          "output_type": "execute_result",
          "data": {
            "text/plain": [
              "set()"
            ]
          },
          "metadata": {
            "tags": []
          },
          "execution_count": 24
        }
      ]
    },
    {
      "cell_type": "code",
      "metadata": {
        "id": "pYa0LOVdyy06",
        "colab_type": "code",
        "outputId": "9d518f87-53f2-4a8e-c2d6-1f5404ba6b03",
        "colab": {
          "base_uri": "https://localhost:8080/",
          "height": 85
        }
      },
      "source": [
        "#union,difference(A-B or B-A),intersection\n",
        "A = {1,2,3,4,5}\n",
        "B = {3,4,5,6,7}\n",
        "#union A U b ==> {1,2,3,4,5,6,7}\n",
        "print(A.union(B))\n",
        "#A - B ==> {1,2}\n",
        "#B - A ==> {6,7}\n",
        "print(A.difference(B))#A-B\n",
        "print(B.difference(A))#B-A\n",
        "# intersection A and B ==> {3,4,5}\n",
        "print(A.intersection(B))"
      ],
      "execution_count": 0,
      "outputs": [
        {
          "output_type": "stream",
          "text": [
            "{1, 2, 3, 4, 5, 6, 7}\n",
            "{1, 2}\n",
            "{6, 7}\n",
            "{3, 4, 5}\n"
          ],
          "name": "stdout"
        }
      ]
    },
    {
      "cell_type": "code",
      "metadata": {
        "id": "NyULpb1jy5U0",
        "colab_type": "code",
        "outputId": "c2cc8ba1-7232-4444-fbb3-871648708e7a",
        "colab": {
          "base_uri": "https://localhost:8080/",
          "height": 85
        }
      },
      "source": [
        "#subset,superset\n",
        "C = {1,2,3,4,5,6,7,8,9,10}\n",
        "print(A.issubset(C))#True\n",
        "print(A.issubset(B))#False\n",
        "print(C.issuperset(A))#True\n",
        "print(C.issuperset(B))#True"
      ],
      "execution_count": 0,
      "outputs": [
        {
          "output_type": "stream",
          "text": [
            "True\n",
            "False\n",
            "True\n",
            "True\n"
          ],
          "name": "stdout"
        }
      ]
    },
    {
      "cell_type": "code",
      "metadata": {
        "id": "reol79AlzUap",
        "colab_type": "code",
        "outputId": "fb1821c2-d31a-427b-e9ab-3569a99ce32c",
        "colab": {
          "base_uri": "https://localhost:8080/",
          "height": 51
        }
      },
      "source": [
        "#disjoint\n",
        "X = {1,2}\n",
        "Y = {23,34,45}\n",
        "print(A.isdisjoint(B))#False\n",
        "print(X.isdisjoint(Y))#True"
      ],
      "execution_count": 0,
      "outputs": [
        {
          "output_type": "stream",
          "text": [
            "False\n",
            "True\n"
          ],
          "name": "stdout"
        }
      ]
    },
    {
      "cell_type": "code",
      "metadata": {
        "id": "7Oxq8xTWz-Xv",
        "colab_type": "code",
        "outputId": "de8a1c14-b3b3-46f3-e576-ce49d155a32e",
        "colab": {
          "base_uri": "https://localhost:8080/",
          "height": 68
        }
      },
      "source": [
        "#Symmetric difference ==> (A-B U B-A)\n",
        "print(A.symmetric_difference(B))\n",
        "print(A)\n",
        "print(B)"
      ],
      "execution_count": 0,
      "outputs": [
        {
          "output_type": "stream",
          "text": [
            "{1, 2, 6, 7}\n",
            "{1, 2, 3, 4, 5}\n",
            "{3, 4, 5, 6, 7}\n"
          ],
          "name": "stdout"
        }
      ]
    },
    {
      "cell_type": "code",
      "metadata": {
        "id": "6P4sZF7g0lf5",
        "colab_type": "code",
        "outputId": "0d29d407-e97c-44a0-fc2f-773cb5e5704e",
        "colab": {
          "base_uri": "https://localhost:8080/",
          "height": 51
        }
      },
      "source": [
        "#set A will be updated with the result of union of A and B\n",
        "A.update(B)#A = A union B\n",
        "print(A)\n",
        "print(B)\n"
      ],
      "execution_count": 0,
      "outputs": [
        {
          "output_type": "stream",
          "text": [
            "{1, 2, 3, 4, 5, 6, 7}\n",
            "{3, 4, 5, 6, 7}\n"
          ],
          "name": "stdout"
        }
      ]
    },
    {
      "cell_type": "code",
      "metadata": {
        "id": "HxEeMxJD057t",
        "colab_type": "code",
        "outputId": "0a91c8ca-440d-486f-fb63-1f0c9cd14a5a",
        "colab": {
          "base_uri": "https://localhost:8080/",
          "height": 51
        }
      },
      "source": [
        "#set A will be updated with the result of intersection of A and B\n",
        "A.intersection_update(B)\n",
        "print(A)\n",
        "print(B)"
      ],
      "execution_count": 0,
      "outputs": [
        {
          "output_type": "stream",
          "text": [
            "{3, 4, 5, 6, 7}\n",
            "{3, 4, 5, 6, 7}\n"
          ],
          "name": "stdout"
        }
      ]
    },
    {
      "cell_type": "code",
      "metadata": {
        "id": "fMJKlb61087Y",
        "colab_type": "code",
        "outputId": "7ccd519e-5fce-4a0a-88c2-64800125c41a",
        "colab": {
          "base_uri": "https://localhost:8080/",
          "height": 51
        }
      },
      "source": [
        "#set A will be updated with the result of difference of A and B\n",
        "A.difference_update(B)\n",
        "print(A)\n",
        "print(B)"
      ],
      "execution_count": 0,
      "outputs": [
        {
          "output_type": "stream",
          "text": [
            "set()\n",
            "{3, 4, 5, 6, 7}\n"
          ],
          "name": "stdout"
        }
      ]
    },
    {
      "cell_type": "code",
      "metadata": {
        "id": "o1JWw-o-1VUz",
        "colab_type": "code",
        "outputId": "11b7031d-8e6f-423c-cd15-9daf08285a6e",
        "colab": {
          "base_uri": "https://localhost:8080/",
          "height": 51
        }
      },
      "source": [
        "#set A will be updated with the result of symmetric_difference of A and B\n",
        "A.symmetric_difference_update(B)\n",
        "print(A)\n",
        "print(B)"
      ],
      "execution_count": 0,
      "outputs": [
        {
          "output_type": "stream",
          "text": [
            "{3, 4, 5, 6, 7}\n",
            "{3, 4, 5, 6, 7}\n"
          ],
          "name": "stdout"
        }
      ]
    },
    {
      "cell_type": "markdown",
      "metadata": {
        "id": "DzVCUhY41moZ",
        "colab_type": "text"
      },
      "source": [
        "### Dictionary:\n",
        "'''dictionary name = {key1:value1,key2:key2,...... }'''\n",
        "\n",
        "### Rules for key :\n",
        "1. keys should be unique\n",
        "2. keys should be immutable (example:numerics,string,tuple )"
      ]
    },
    {
      "cell_type": "code",
      "metadata": {
        "id": "BRlzWO1L11gN",
        "colab_type": "code",
        "outputId": "2f48c59f-8ad4-4244-e666-54e648fcc7d0",
        "colab": {
          "base_uri": "https://localhost:8080/",
          "height": 34
        }
      },
      "source": [
        "#creating a dictionary\n",
        "dict1 = {\"name\":\"preeti\",\"emp id\":1234,\"address\":\"hyd\"}\n",
        "print(dict1)"
      ],
      "execution_count": 0,
      "outputs": [
        {
          "output_type": "stream",
          "text": [
            "{'name': 'preeti', 'emp id': 1234, 'address': 'hyd'}\n"
          ],
          "name": "stdout"
        }
      ]
    },
    {
      "cell_type": "code",
      "metadata": {
        "id": "AzUFjYfO2GrH",
        "colab_type": "code",
        "outputId": "ec23deb8-bcb3-4368-f678-2e623f079ed8",
        "colab": {
          "base_uri": "https://localhost:8080/",
          "height": 34
        }
      },
      "source": [
        "#Extacting an element\n",
        "print(dict1[\"emp id\"])"
      ],
      "execution_count": 0,
      "outputs": [
        {
          "output_type": "stream",
          "text": [
            "1234\n"
          ],
          "name": "stdout"
        }
      ]
    },
    {
      "cell_type": "code",
      "metadata": {
        "id": "4onrSNoA2cgQ",
        "colab_type": "code",
        "outputId": "1f4eafe7-4afe-4b50-e39e-b9f6145dce83",
        "colab": {
          "base_uri": "https://localhost:8080/",
          "height": 34
        }
      },
      "source": [
        "#Removing or deleting an entry \n",
        "del dict1[\"address\"]\n",
        "print(dict1)"
      ],
      "execution_count": 0,
      "outputs": [
        {
          "output_type": "stream",
          "text": [
            "{'name': 'preeti', 'emp id': 1234}\n"
          ],
          "name": "stdout"
        }
      ]
    },
    {
      "cell_type": "code",
      "metadata": {
        "id": "cNNthNEx3Lo_",
        "colab_type": "code",
        "outputId": "2117fcc1-952e-4d35-a9a4-1f063db4d9f5",
        "colab": {
          "base_uri": "https://localhost:8080/",
          "height": 34
        }
      },
      "source": [
        "#Adding an entry\n",
        "dict1[\"course\"] = \"python\"\n",
        "print(dict1)"
      ],
      "execution_count": 0,
      "outputs": [
        {
          "output_type": "stream",
          "text": [
            "{'name': 'preeti', 'emp id': 1234, 'course': 'python'}\n"
          ],
          "name": "stdout"
        }
      ]
    },
    {
      "cell_type": "markdown",
      "metadata": {
        "id": "Xy1uhtyJ3et3",
        "colab_type": "text"
      },
      "source": [
        "### Built-in methods:\n",
        "1. keys()\n",
        "2. values()\n",
        "3. items()\n",
        "4. get()\n",
        "5. update()\n",
        "6. pop()\n",
        "7. popitem()"
      ]
    },
    {
      "cell_type": "code",
      "metadata": {
        "id": "Wtb4H9A28sZk",
        "colab_type": "code",
        "outputId": "4e4f40f9-02ff-41e7-c313-7a9da96b6111",
        "colab": {
          "base_uri": "https://localhost:8080/",
          "height": 68
        }
      },
      "source": [
        "print(dict1.keys())\n",
        "print(dict1.values())\n",
        "print(dict1.items())"
      ],
      "execution_count": 0,
      "outputs": [
        {
          "output_type": "stream",
          "text": [
            "dict_keys(['name', 'emp id', 'course'])\n",
            "dict_values(['preeti', 1234, 'python'])\n",
            "dict_items([('name', 'preeti'), ('emp id', 1234), ('course', 'python')])\n"
          ],
          "name": "stdout"
        }
      ]
    },
    {
      "cell_type": "code",
      "metadata": {
        "id": "pz1TpE_-8xtc",
        "colab_type": "code",
        "outputId": "1f9aaa5b-17f2-4797-c596-ef44bfe5768a",
        "colab": {
          "base_uri": "https://localhost:8080/",
          "height": 51
        }
      },
      "source": [
        "#extracting an element\n",
        "print(dict1[\"name\"])\n",
        "print(dict1.get(\"name\"))"
      ],
      "execution_count": 0,
      "outputs": [
        {
          "output_type": "stream",
          "text": [
            "preeti\n",
            "preeti\n"
          ],
          "name": "stdout"
        }
      ]
    },
    {
      "cell_type": "code",
      "metadata": {
        "id": "34hwLJ5q82cH",
        "colab_type": "code",
        "outputId": "a3d12ec3-3d4f-40d7-9107-81aa492774e8",
        "colab": {
          "base_uri": "https://localhost:8080/",
          "height": 34
        }
      },
      "source": [
        "#Adding an entry\n",
        "dict1[\"address\"] = \"hyd\"\n",
        "dict1"
      ],
      "execution_count": 0,
      "outputs": [
        {
          "output_type": "execute_result",
          "data": {
            "text/plain": [
              "{'address': 'hyd', 'course': 'python', 'emp id': 1234, 'name': 'preeti'}"
            ]
          },
          "metadata": {
            "tags": []
          },
          "execution_count": 59
        }
      ]
    },
    {
      "cell_type": "code",
      "metadata": {
        "id": "l5dglXLg9ASg",
        "colab_type": "code",
        "outputId": "cd571969-de94-4c89-eac9-1ef5b9491da1",
        "colab": {
          "base_uri": "https://localhost:8080/",
          "height": 34
        }
      },
      "source": [
        "#update() ==> Appends the dictionary entries\n",
        "d = {1:1,2:2,3:3}\n",
        "dict1.update(d)\n",
        "print(dict1)"
      ],
      "execution_count": 0,
      "outputs": [
        {
          "output_type": "stream",
          "text": [
            "{'name': 'preeti', 'emp id': 1234, 'course': 'python', 'address': 'hyd', 1: 1, 2: 2, 3: 3}\n"
          ],
          "name": "stdout"
        }
      ]
    },
    {
      "cell_type": "code",
      "metadata": {
        "id": "6tGbBLtZ9Frq",
        "colab_type": "code",
        "outputId": "de192509-78e9-4bdd-8541-f732a574bb71",
        "colab": {
          "base_uri": "https://localhost:8080/",
          "height": 34
        }
      },
      "source": [
        "#Removing an entry =S=> pop(),popitem()\n",
        "#pop() ==> removes an entry with respect to mentioned key\n",
        "dict1.pop(\"name\")\n",
        "dict1"
      ],
      "execution_count": 0,
      "outputs": [
        {
          "output_type": "execute_result",
          "data": {
            "text/plain": [
              "{1: 1, 2: 2, 3: 3, 'address': 'hyd', 'course': 'python', 'emp id': 1234}"
            ]
          },
          "metadata": {
            "tags": []
          },
          "execution_count": 62
        }
      ]
    },
    {
      "cell_type": "code",
      "metadata": {
        "id": "w2wwEpJE9MBw",
        "colab_type": "code",
        "outputId": "de63bdd1-0a40-4b58-b1ab-b4b8e044ccb7",
        "colab": {
          "base_uri": "https://localhost:8080/",
          "height": 34
        }
      },
      "source": [
        "#popitem() ==>removes the last entry\n",
        "dict1.popitem()"
      ],
      "execution_count": 0,
      "outputs": [
        {
          "output_type": "execute_result",
          "data": {
            "text/plain": [
              "(3, 3)"
            ]
          },
          "metadata": {
            "tags": []
          },
          "execution_count": 63
        }
      ]
    },
    {
      "cell_type": "code",
      "metadata": {
        "id": "HtYA_asT9eFD",
        "colab_type": "code",
        "outputId": "d613dd30-fca5-4ddd-d531-a74b6a1e99ca",
        "colab": {
          "base_uri": "https://localhost:8080/",
          "height": 34
        }
      },
      "source": [
        "dict1"
      ],
      "execution_count": 0,
      "outputs": [
        {
          "output_type": "execute_result",
          "data": {
            "text/plain": [
              "{1: 1, 2: 2, 'address': 'hyd', 'course': 'python', 'emp id': 1234}"
            ]
          },
          "metadata": {
            "tags": []
          },
          "execution_count": 64
        }
      ]
    }
  ]
}