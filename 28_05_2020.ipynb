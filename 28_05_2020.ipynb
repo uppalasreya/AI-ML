{
  "nbformat": 4,
  "nbformat_minor": 0,
  "metadata": {
    "colab": {
      "name": "28-05-2020",
      "provenance": [],
      "authorship_tag": "ABX9TyOsReFjbsRgicbbY7TrLEfU",
      "include_colab_link": true
    },
    "kernelspec": {
      "name": "python3",
      "display_name": "Python 3"
    }
  },
  "cells": [
    {
      "cell_type": "markdown",
      "metadata": {
        "id": "view-in-github",
        "colab_type": "text"
      },
      "source": [
        "<a href=\"https://colab.research.google.com/github/uppalasreya/AI-ML/blob/master/28_05_2020.ipynb\" target=\"_parent\"><img src=\"https://colab.research.google.com/assets/colab-badge.svg\" alt=\"Open In Colab\"/></a>"
      ]
    },
    {
      "cell_type": "markdown",
      "metadata": {
        "id": "J6LZ8aE02Gja",
        "colab_type": "text"
      },
      "source": [
        "###strings\n",
        "1. \"\" or ''(characters)-->'a'\n",
        "2. immutable-->cannot change directly\n",
        "3. collection of characters enclosed by quotation marks-->iterable objects"
      ]
    },
    {
      "cell_type": "code",
      "metadata": {
        "id": "bgtvoS7e20Hq",
        "colab_type": "code",
        "outputId": "d75462c6-aa64-460d-afa2-367245739a30",
        "colab": {
          "base_uri": "https://localhost:8080/",
          "height": 34
        }
      },
      "source": [
        "s1 = \"hello\"\n",
        "s2 = 'good mrng'\n",
        "print(type(s1),type(s2))"
      ],
      "execution_count": 0,
      "outputs": [
        {
          "output_type": "stream",
          "text": [
            "<class 'str'> <class 'str'>\n"
          ],
          "name": "stdout"
        }
      ]
    },
    {
      "cell_type": "code",
      "metadata": {
        "id": "57ZNCjIi3elq",
        "colab_type": "code",
        "outputId": "adc46d34-2964-47d3-b052-6ee99d08e614",
        "colab": {
          "base_uri": "https://localhost:8080/",
          "height": 51
        }
      },
      "source": [
        "s1 = input(\"enter the string: \")\n",
        "s2 = 'good mrng'\n",
        "print(type(s1),type(s2))"
      ],
      "execution_count": 0,
      "outputs": [
        {
          "output_type": "stream",
          "text": [
            "enter the string: hello\n",
            "<class 'str'> <class 'str'>\n"
          ],
          "name": "stdout"
        }
      ]
    },
    {
      "cell_type": "markdown",
      "metadata": {
        "id": "58jC0R264u5g",
        "colab_type": "text"
      },
      "source": [
        "#operators : +(concatination),*(repitition),[] (slice),[:] (slice),[in,not in]\n",
        "\n"
      ]
    },
    {
      "cell_type": "code",
      "metadata": {
        "id": "zZW55VO_4zuV",
        "colab_type": "code",
        "outputId": "e312b014-9c23-44a3-8fbe-98e4f0638966",
        "colab": {
          "base_uri": "https://localhost:8080/",
          "height": 119
        }
      },
      "source": [
        "print(s1 + s2)\n",
        "print(s1 * 3)\n",
        "print(s1[4])\n",
        "print(s1[-2])\n",
        "print(s1[2:])\n",
        "print(s2[3:6])"
      ],
      "execution_count": 0,
      "outputs": [
        {
          "output_type": "stream",
          "text": [
            "hellogood mrng\n",
            "hellohellohello\n",
            "o\n",
            "l\n",
            "llo\n",
            "d m\n"
          ],
          "name": "stdout"
        }
      ]
    },
    {
      "cell_type": "code",
      "metadata": {
        "id": "JtzyYw1a48XK",
        "colab_type": "code",
        "outputId": "3d81773c-7505-4cda-f7aa-3f34723257a4",
        "colab": {
          "base_uri": "https://localhost:8080/",
          "height": 51
        }
      },
      "source": [
        "#start of slice=0 end of slice=length of string\n",
        "print(s1[0:5])\n",
        "print(s1[:])"
      ],
      "execution_count": 0,
      "outputs": [
        {
          "output_type": "stream",
          "text": [
            "hello\n",
            "hello\n"
          ],
          "name": "stdout"
        }
      ]
    },
    {
      "cell_type": "code",
      "metadata": {
        "id": "ztPO-qvd9QeB",
        "colab_type": "code",
        "outputId": "c3be81ac-b84d-42a3-bafd-75983b21d1ba",
        "colab": {
          "base_uri": "https://localhost:8080/",
          "height": 34
        }
      },
      "source": [
        "#print altrnate characters of the string\n",
        "print(s1[::2])"
      ],
      "execution_count": 0,
      "outputs": [
        {
          "output_type": "stream",
          "text": [
            "hlo\n"
          ],
          "name": "stdout"
        }
      ]
    },
    {
      "cell_type": "code",
      "metadata": {
        "id": "L2hjfYbC-XGA",
        "colab_type": "code",
        "outputId": "350812b8-9f1a-4342-df4e-16fb2e456d91",
        "colab": {
          "base_uri": "https://localhost:8080/",
          "height": 51
        }
      },
      "source": [
        "#accept a string from the user and check weather it is a palindrome or not\n",
        "s3=input(\"enter the string\")\n",
        "if(s3 == s3[::-1]):\n",
        "  print(\"the given string is palindrome\")\n",
        "else:\n",
        "  print(\"the given string is not a palindrome\")"
      ],
      "execution_count": 0,
      "outputs": [
        {
          "output_type": "stream",
          "text": [
            "enter the stringwow\n",
            "the given string is palindrome\n"
          ],
          "name": "stdout"
        }
      ]
    },
    {
      "cell_type": "code",
      "metadata": {
        "id": "nGpGB35eAJIf",
        "colab_type": "code",
        "outputId": "ee5321b9-9a89-4840-87ac-1377aa425599",
        "colab": {
          "base_uri": "https://localhost:8080/",
          "height": 51
        }
      },
      "source": [
        "#number is palindrome or not\n",
        "n=int(input(\"enter the number\"))\n",
        "if(str(n) == str(n)[::-1]):\n",
        "  print(\"the given number is palindrome\")\n",
        "else:\n",
        "  print(\"the given number is not a palindrome\")"
      ],
      "execution_count": 0,
      "outputs": [
        {
          "output_type": "stream",
          "text": [
            "enter the number123\n",
            "the given number is not a palindrome\n"
          ],
          "name": "stdout"
        }
      ]
    },
    {
      "cell_type": "code",
      "metadata": {
        "id": "gLPhLErJA3ka",
        "colab_type": "code",
        "outputId": "82f25a8c-af06-42c9-ddf0-437997036703",
        "colab": {
          "base_uri": "https://localhost:8080/",
          "height": 51
        }
      },
      "source": [
        "#number is palindrome or not\n",
        "n=int(input(\"enter the number\"))\n",
        "if(str(n) == str(n)[::-1]):\n",
        "  print(\"the given number is palindrome\")\n",
        "else:\n",
        "  print(\"the given number is not a palindrome\")"
      ],
      "execution_count": 0,
      "outputs": [
        {
          "output_type": "stream",
          "text": [
            "enter the number121\n",
            "the given number is palindrome\n"
          ],
          "name": "stdout"
        }
      ]
    },
    {
      "cell_type": "code",
      "metadata": {
        "id": "qspKUdjnBG9o",
        "colab_type": "code",
        "outputId": "97a6a7f6-abbb-4fbf-d2d7-22050c725fe8",
        "colab": {
          "base_uri": "https://localhost:8080/",
          "height": 85
        }
      },
      "source": [
        "s1 = input(\"enter the string: \")\n",
        "s2 = 'good mrng'\n",
        "print(s1[:])\n",
        "print(s1[::1])\n",
        "print(s1[0:5])"
      ],
      "execution_count": 0,
      "outputs": [
        {
          "output_type": "stream",
          "text": [
            "enter the string: hello\n",
            "hello\n",
            "hello\n",
            "hello\n"
          ],
          "name": "stdout"
        }
      ]
    },
    {
      "cell_type": "code",
      "metadata": {
        "id": "sczvhKCHB_a3",
        "colab_type": "code",
        "outputId": "9a2796b5-02dc-4cf1-ed71-9dab878f6f89",
        "colab": {
          "base_uri": "https://localhost:8080/",
          "height": 68
        }
      },
      "source": [
        "s4=\"python\"\n",
        "print(\"on\" in s4)\n",
        "print('xy' in s4)\n",
        "print(\"to\" not in s4)"
      ],
      "execution_count": 0,
      "outputs": [
        {
          "output_type": "stream",
          "text": [
            "True\n",
            "False\n",
            "True\n"
          ],
          "name": "stdout"
        }
      ]
    },
    {
      "cell_type": "markdown",
      "metadata": {
        "id": "PanIB6SfEo4N",
        "colab_type": "text"
      },
      "source": [
        "### built in functions in strings:\n",
        "1. len()-->length of the string\n",
        "2. min()\n",
        "3. max()\n",
        "4. str()-->any data type to string data type\n"
      ]
    },
    {
      "cell_type": "code",
      "metadata": {
        "id": "YHiHsjahFWaz",
        "colab_type": "code",
        "outputId": "1b70167b-ddcf-44f6-c346-ab3c7eed5205",
        "colab": {
          "base_uri": "https://localhost:8080/",
          "height": 102
        }
      },
      "source": [
        "s1 = \"hello\"\n",
        "s = \"abc123\"\n",
        "print(len(s1))\n",
        "print(max(s1))\n",
        "print(min(s1))\n",
        "print(max(s))\n",
        "print(min(s))"
      ],
      "execution_count": 0,
      "outputs": [
        {
          "output_type": "stream",
          "text": [
            "5\n",
            "o\n",
            "e\n",
            "c\n",
            "1\n"
          ],
          "name": "stdout"
        }
      ]
    },
    {
      "cell_type": "code",
      "metadata": {
        "id": "eoRwr02qGcWz",
        "colab_type": "code",
        "outputId": "21b717e6-c234-4003-ff10-4f507048f978",
        "colab": {
          "base_uri": "https://localhost:8080/",
          "height": 34
        }
      },
      "source": [
        "#ord-->Ascii value\n",
        "ord('a')"
      ],
      "execution_count": 0,
      "outputs": [
        {
          "output_type": "execute_result",
          "data": {
            "text/plain": [
              "97"
            ]
          },
          "metadata": {
            "tags": []
          },
          "execution_count": 30
        }
      ]
    },
    {
      "cell_type": "code",
      "metadata": {
        "id": "1wEGOswZGmsM",
        "colab_type": "code",
        "outputId": "d01be01e-a9ab-4ac2-db62-d9ceb1263ac1",
        "colab": {
          "base_uri": "https://localhost:8080/",
          "height": 34
        }
      },
      "source": [
        "#chr-->character of number\n",
        "chr(97)"
      ],
      "execution_count": 0,
      "outputs": [
        {
          "output_type": "execute_result",
          "data": {
            "text/plain": [
              "'a'"
            ]
          },
          "metadata": {
            "tags": []
          },
          "execution_count": 31
        }
      ]
    },
    {
      "cell_type": "markdown",
      "metadata": {
        "id": "KinGojUpH8KP",
        "colab_type": "text"
      },
      "source": [
        "###difference between string functions and methods\n",
        "functions created inside class is known as methods and it is restricted to particular string class or objects itself and calling of method  is different from functions. whereas string function is used for iterable objects.  It is not restricted it can use for any data type i.e(to lists strings tupleetc of any type).\n"
      ]
    },
    {
      "cell_type": "markdown",
      "metadata": {
        "id": "jGI2NbUTKz8f",
        "colab_type": "text"
      },
      "source": [
        "### Built-in methods in strings\n",
        "1. capitalize()\n",
        "2. isalpha()\n",
        "3. isdigit()\n",
        "4. isalnum()\n",
        "5. isupper()\n",
        "6. islower()\n",
        "7. upper()\n",
        "8. lower()\n",
        "9. swapcase()\n",
        "10. count()\n",
        "11. split()\n",
        "12. replace()"
      ]
    },
    {
      "cell_type": "code",
      "metadata": {
        "id": "XVyTOEG_K82W",
        "colab_type": "code",
        "outputId": "b907fcce-3f73-4cb0-f482-1bc93bc32357",
        "colab": {
          "base_uri": "https://localhost:8080/",
          "height": 68
        }
      },
      "source": [
        "s = \"hello\"\n",
        "print(len(s))#in strfun\n",
        "print(s.capitalize())#objname.method name()\n",
        "print(s)"
      ],
      "execution_count": 0,
      "outputs": [
        {
          "output_type": "stream",
          "text": [
            "5\n",
            "Hello\n",
            "hello\n"
          ],
          "name": "stdout"
        }
      ]
    },
    {
      "cell_type": "code",
      "metadata": {
        "id": "u1V4DBVBLoV8",
        "colab_type": "code",
        "outputId": "6b79b415-a569-441a-b9e1-5cd6f0e82a69",
        "colab": {
          "base_uri": "https://localhost:8080/",
          "height": 51
        }
      },
      "source": [
        "s = \"hello\"\n",
        "print(len(s))#in strfun\n",
        "s=s.capitalize()#objname.method name()\n",
        "print(s)"
      ],
      "execution_count": 0,
      "outputs": [
        {
          "output_type": "stream",
          "text": [
            "5\n",
            "Hello\n"
          ],
          "name": "stdout"
        }
      ]
    },
    {
      "cell_type": "code",
      "metadata": {
        "id": "ZG-3GAN1MZmg",
        "colab_type": "code",
        "outputId": "57c07a55-4c5e-4b40-cfac-85e94fa2c4d0",
        "colab": {
          "base_uri": "https://localhost:8080/",
          "height": 68
        }
      },
      "source": [
        "s1 = \"hello\"\n",
        "s2 = \"abc123\"\n",
        "s3 = \"123\"\n",
        "print(s1.isalpha())\n",
        "print(s1.isdigit())\n",
        "print(s1.isalnum())"
      ],
      "execution_count": 0,
      "outputs": [
        {
          "output_type": "stream",
          "text": [
            "True\n",
            "False\n",
            "True\n"
          ],
          "name": "stdout"
        }
      ]
    },
    {
      "cell_type": "code",
      "metadata": {
        "id": "40lE0ztQNUzO",
        "colab_type": "code",
        "outputId": "136bef4f-8fd9-44f5-f289-66da6cf9fc25",
        "colab": {
          "base_uri": "https://localhost:8080/",
          "height": 68
        }
      },
      "source": [
        "s1 = \"hello\"\n",
        "s2 = \"abc123\"\n",
        "s3 = \"123\"\n",
        "print(s1.isalpha())\n",
        "print(s1.isdigit())\n",
        "print(s3.isalnum())"
      ],
      "execution_count": 0,
      "outputs": [
        {
          "output_type": "stream",
          "text": [
            "True\n",
            "False\n",
            "True\n"
          ],
          "name": "stdout"
        }
      ]
    },
    {
      "cell_type": "code",
      "metadata": {
        "id": "rRlKgvc5OcxM",
        "colab_type": "code",
        "outputId": "4f0665ac-eff8-476f-8f2b-cd069bebe245",
        "colab": {
          "base_uri": "https://localhost:8080/",
          "height": 85
        }
      },
      "source": [
        "s1 = \"python\"\n",
        "s2 = \"PYTHON\"\n",
        "print(s1.isupper())\n",
        "print(s2.isupper())\n",
        "print(s1.islower())\n",
        "print(s2.islower())"
      ],
      "execution_count": 0,
      "outputs": [
        {
          "output_type": "stream",
          "text": [
            "False\n",
            "True\n",
            "True\n",
            "False\n"
          ],
          "name": "stdout"
        }
      ]
    },
    {
      "cell_type": "code",
      "metadata": {
        "id": "pSljf35kOpxV",
        "colab_type": "code",
        "outputId": "7c636c36-312f-497a-f696-403dc70bea1e",
        "colab": {
          "base_uri": "https://localhost:8080/",
          "height": 51
        }
      },
      "source": [
        "s1 = \"python\"\n",
        "s2 = \"PYTHON\"\n",
        "print(s1.upper())\n",
        "print(s2.lower())"
      ],
      "execution_count": 0,
      "outputs": [
        {
          "output_type": "stream",
          "text": [
            "PYTHON\n",
            "python\n"
          ],
          "name": "stdout"
        }
      ]
    },
    {
      "cell_type": "code",
      "metadata": {
        "id": "F9OyqBGkPrgG",
        "colab_type": "code",
        "outputId": "aae23b5a-719c-4ff2-81f9-82033db5424a",
        "colab": {
          "base_uri": "https://localhost:8080/",
          "height": 34
        }
      },
      "source": [
        "s1 = \"Python\"\n",
        "print(s1.swapcase())"
      ],
      "execution_count": 0,
      "outputs": [
        {
          "output_type": "stream",
          "text": [
            "pYTHON\n"
          ],
          "name": "stdout"
        }
      ]
    },
    {
      "cell_type": "code",
      "metadata": {
        "id": "inQ2sJmJQR2e",
        "colab_type": "code",
        "outputId": "b3f79825-dca0-4171-ff61-c8df5b25be81",
        "colab": {
          "base_uri": "https://localhost:8080/",
          "height": 34
        }
      },
      "source": [
        "s= \"abc abc abc\"\n",
        "s.count(\"abc\")#count returns frequency of substring in main string"
      ],
      "execution_count": 0,
      "outputs": [
        {
          "output_type": "execute_result",
          "data": {
            "text/plain": [
              "3"
            ]
          },
          "metadata": {
            "tags": []
          },
          "execution_count": 51
        }
      ]
    },
    {
      "cell_type": "code",
      "metadata": {
        "id": "LtDTxdgrRbYx",
        "colab_type": "code",
        "outputId": "d005e0d3-0bb4-4845-8b72-6ee3a530c2b8",
        "colab": {
          "base_uri": "https://localhost:8080/",
          "height": 34
        }
      },
      "source": [
        "#split-->return type is split\n",
        "print(s.split())"
      ],
      "execution_count": 0,
      "outputs": [
        {
          "output_type": "stream",
          "text": [
            "['abc', 'abc', 'abc']\n"
          ],
          "name": "stdout"
        }
      ]
    },
    {
      "cell_type": "code",
      "metadata": {
        "id": "O6ZS2-UFR2_Y",
        "colab_type": "code",
        "outputId": "567a6586-1b67-42b2-8eca-ddc1a0f89f17",
        "colab": {
          "base_uri": "https://localhost:8080/",
          "height": 34
        }
      },
      "source": [
        "s1 = \"a,b,c,d\"\n",
        "print(s1.split(\",\"))"
      ],
      "execution_count": 0,
      "outputs": [
        {
          "output_type": "stream",
          "text": [
            "['a', 'b', 'c', 'd']\n"
          ],
          "name": "stdout"
        }
      ]
    },
    {
      "cell_type": "code",
      "metadata": {
        "id": "FWNdwrZdVxpX",
        "colab_type": "code",
        "outputId": "11c5129b-e8ed-4548-dab8-21283793f069",
        "colab": {
          "base_uri": "https://localhost:8080/",
          "height": 51
        }
      },
      "source": [
        "s = \"hello\"\n",
        "print(s.replace('e','d'))\n",
        "print(s)"
      ],
      "execution_count": 0,
      "outputs": [
        {
          "output_type": "stream",
          "text": [
            "hdllo\n",
            "hello\n"
          ],
          "name": "stdout"
        }
      ]
    },
    {
      "cell_type": "code",
      "metadata": {
        "id": "IN5DopsqWSmI",
        "colab_type": "code",
        "outputId": "93de80b3-a59f-4424-def5-1ad595bc801d",
        "colab": {
          "base_uri": "https://localhost:8080/",
          "height": 34
        }
      },
      "source": [
        "s = \"hello\"\n",
        "s = s.replace('e','d')\n",
        "print(s)"
      ],
      "execution_count": 0,
      "outputs": [
        {
          "output_type": "stream",
          "text": [
            "hdllo\n"
          ],
          "name": "stdout"
        }
      ]
    },
    {
      "cell_type": "code",
      "metadata": {
        "id": "vAFX-lthWjmJ",
        "colab_type": "code",
        "outputId": "df1dcdfa-2b60-4019-8ee5-80891b20d961",
        "colab": {
          "base_uri": "https://localhost:8080/",
          "height": 68
        }
      },
      "source": [
        "#accept a member(n) from the user and remove nth position\n",
        "#character from the string\n",
        "#let n = 3\n",
        "#s = abcabc\n",
        "#output : abab\n",
        "n = int(input(\"enter the position\"))\n",
        "s = input(\"enter the string\")\n",
        "print(s.replace(s[n-1],''))\n"
      ],
      "execution_count": 0,
      "outputs": [
        {
          "output_type": "stream",
          "text": [
            "enter the position3\n",
            "enter the stringabcabc\n",
            "abab\n"
          ],
          "name": "stdout"
        }
      ]
    },
    {
      "cell_type": "code",
      "metadata": {
        "id": "5VO0jjjhZIk6",
        "colab_type": "code",
        "outputId": "aac9d345-c811-44d6-ccb7-e6be82b0ac29",
        "colab": {
          "base_uri": "https://localhost:8080/",
          "height": 68
        }
      },
      "source": [
        "#accept a member(n) from the user and remove nth position\n",
        "#character from the string\n",
        "#let n = 3\n",
        "#s = abcabc\n",
        "#output : abab\n",
        "n = int(input(\"enter the position\"))\n",
        "s = input(\"enter the string\")\n",
        "print(s.replace(s[n-1],'',1))\n"
      ],
      "execution_count": 0,
      "outputs": [
        {
          "output_type": "stream",
          "text": [
            "enter the position3\n",
            "enter the stringabcabc\n",
            "ababc\n"
          ],
          "name": "stdout"
        }
      ]
    },
    {
      "cell_type": "markdown",
      "metadata": {
        "id": "Xc9Zzct6aQ9-",
        "colab_type": "text"
      },
      "source": [
        "###for loop:\n",
        "1. for loop with range\n",
        "2. for loop with iterable object\n"
      ]
    },
    {
      "cell_type": "code",
      "metadata": {
        "id": "dYgbl4-7bkaI",
        "colab_type": "code",
        "colab": {}
      },
      "source": [
        "...for varname in range(start,stop,step):\n",
        "  statements...\n",
        "  "
      ],
      "execution_count": 0,
      "outputs": []
    },
    {
      "cell_type": "code",
      "metadata": {
        "id": "9XmoKLtIbl-5",
        "colab_type": "code",
        "outputId": "33c54989-5c13-42d5-9849-14c8661991ec",
        "colab": {
          "base_uri": "https://localhost:8080/",
          "height": 187
        }
      },
      "source": [
        "#print 1-n numbers on the screen\n",
        "n=10\n",
        "for i in range(1,n+1):\n",
        "  print(i)"
      ],
      "execution_count": 0,
      "outputs": [
        {
          "output_type": "stream",
          "text": [
            "1\n",
            "2\n",
            "3\n",
            "4\n",
            "5\n",
            "6\n",
            "7\n",
            "8\n",
            "9\n",
            "10\n"
          ],
          "name": "stdout"
        }
      ]
    },
    {
      "cell_type": "code",
      "metadata": {
        "id": "BDbCGNM8caMh",
        "colab_type": "code",
        "outputId": "7e25b55e-1e67-4b39-ad54-6f528c112f43",
        "colab": {
          "base_uri": "https://localhost:8080/",
          "height": 187
        }
      },
      "source": [
        "#print 1-n numbers on the screen using while\n",
        "i=1\n",
        "while(i<=n):\n",
        "  print(i)\n",
        "  i += 1\n",
        "  "
      ],
      "execution_count": 0,
      "outputs": [
        {
          "output_type": "stream",
          "text": [
            "1\n",
            "2\n",
            "3\n",
            "4\n",
            "5\n",
            "6\n",
            "7\n",
            "8\n",
            "9\n",
            "10\n"
          ],
          "name": "stdout"
        }
      ]
    },
    {
      "cell_type": "markdown",
      "metadata": {
        "id": "11kQfo97qcwU",
        "colab_type": "text"
      },
      "source": [
        "for variable in iterable obj:\n",
        "        statements"
      ]
    },
    {
      "cell_type": "code",
      "metadata": {
        "id": "Qzpogp3Dqhen",
        "colab_type": "code",
        "outputId": "3e56f9d2-185c-4a30-f977-25851541f370",
        "colab": {
          "base_uri": "https://localhost:8080/",
          "height": 119
        }
      },
      "source": [
        "s = \"python\"\n",
        "for i in s:\n",
        "  print(i)"
      ],
      "execution_count": 0,
      "outputs": [
        {
          "output_type": "stream",
          "text": [
            "p\n",
            "y\n",
            "t\n",
            "h\n",
            "o\n",
            "n\n"
          ],
          "name": "stdout"
        }
      ]
    },
    {
      "cell_type": "code",
      "metadata": {
        "id": "_PbTLZ4rtCUD",
        "colab_type": "code",
        "outputId": "3fa31e4c-2e92-4f4a-a0fd-4df349f9fa8c",
        "colab": {
          "base_uri": "https://localhost:8080/",
          "height": 323
        }
      },
      "source": [
        "s = \"python\"\n",
        "for i in s:\n",
        "    print(i)\n",
        "\n",
        "#using while loop print all the characters of your string vertically\n",
        "i = 0\n",
        "while i < len(s):\n",
        "    print(s[i])\n",
        "    i += 1\n",
        "    \n",
        "#using for loop but you should not use iterable object\n",
        "for j in range(0,len(s)):\n",
        "    print(s[j])"
      ],
      "execution_count": 0,
      "outputs": [
        {
          "output_type": "stream",
          "text": [
            "p\n",
            "y\n",
            "t\n",
            "h\n",
            "o\n",
            "n\n",
            "p\n",
            "y\n",
            "t\n",
            "h\n",
            "o\n",
            "n\n",
            "p\n",
            "y\n",
            "t\n",
            "h\n",
            "o\n",
            "n\n"
          ],
          "name": "stdout"
        }
      ]
    }
  ]
}