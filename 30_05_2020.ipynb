{
  "nbformat": 4,
  "nbformat_minor": 0,
  "metadata": {
    "colab": {
      "name": "30-05-2020",
      "provenance": [],
      "collapsed_sections": [],
      "authorship_tag": "ABX9TyMgigYcocj8Tl3bbAvuc9Cy",
      "include_colab_link": true
    },
    "kernelspec": {
      "name": "python3",
      "display_name": "Python 3"
    }
  },
  "cells": [
    {
      "cell_type": "markdown",
      "metadata": {
        "id": "view-in-github",
        "colab_type": "text"
      },
      "source": [
        "<a href=\"https://colab.research.google.com/github/uppalasreya/AI-ML/blob/master/30_05_2020.ipynb\" target=\"_parent\"><img src=\"https://colab.research.google.com/assets/colab-badge.svg\" alt=\"Open In Colab\"/></a>"
      ]
    },
    {
      "cell_type": "markdown",
      "metadata": {
        "id": "D5805FS0GecQ",
        "colab_type": "text"
      },
      "source": [
        "### List: [],indexed,ordered,allows duplicate,mutable\n",
        "  - operators : +,*,[],[:],in,not in\n",
        "  - Built-in functions : len(),min(),max(),list()\n",
        "  - Built-in Methods"
      ]
    },
    {
      "cell_type": "code",
      "metadata": {
        "id": "7n91LzvlGnJg",
        "colab_type": "code",
        "outputId": "dd60cc7a-fe1c-4091-ed76-0e3f5f6b691c",
        "colab": {
          "base_uri": "https://localhost:8080/",
          "height": 85
        }
      },
      "source": [
        "#Built-in functions : len(),min(),max(),list()\n",
        "list1 = [12,34,45,6,\"str\",True]\n",
        "list2 = [34,45,6.6,45,[12,23,34,45,[23,34,45,6]]]\n",
        "string = \"python\"\n",
        "#len() returns no.of elements of your list\n",
        "print(\"lenght of list:\",len(list1))#6\n",
        "# print(min(list2))\n",
        "# print(max(list2))\n",
        "print(list(string))\n",
        "print(list1[4][1])\n",
        "print(list2[4][4][3])"
      ],
      "execution_count": 0,
      "outputs": [
        {
          "output_type": "stream",
          "text": [
            "lenght of list: 6\n",
            "['p', 'y', 't', 'h', 'o', 'n']\n",
            "t\n",
            "6\n"
          ],
          "name": "stdout"
        }
      ]
    },
    {
      "cell_type": "markdown",
      "metadata": {
        "id": "YoCfVOZlHmEF",
        "colab_type": "text"
      },
      "source": [
        "## Built-in Methods:\n",
        "###Adding elements\n",
        "  - append()\n",
        "  - insert()\n",
        "  - extend()\n",
        "\n",
        "### removing elements:\n",
        "  - pop()\n",
        "  - remove()\n",
        "  - clear()\n",
        "\n",
        "###sorting and reversing:\n",
        "  - sort()\n",
        "  - reverse()\n",
        "  - index()\n",
        "  - copy()\n",
        "  - count()"
      ]
    },
    {
      "cell_type": "code",
      "metadata": {
        "id": "8w6wEPTcITWA",
        "colab_type": "code",
        "outputId": "c06bf7f2-5d52-47d9-9ed2-d6563ea458f9",
        "colab": {
          "base_uri": "https://localhost:8080/",
          "height": 51
        }
      },
      "source": [
        "#append()-->Adds an element at the end of the list\n",
        "list1 = [1,2,3,4,5]\n",
        "list1.append(6)\n",
        "print(list1)\n",
        "list1.append(7)\n",
        "print(list1)"
      ],
      "execution_count": 0,
      "outputs": [
        {
          "output_type": "stream",
          "text": [
            "[1, 2, 3, 4, 5, 6]\n",
            "[1, 2, 3, 4, 5, 6, 7]\n"
          ],
          "name": "stdout"
        }
      ]
    },
    {
      "cell_type": "code",
      "metadata": {
        "id": "qa3Q8G80JdUF",
        "colab_type": "code",
        "outputId": "ef23e0fb-66f0-4c63-cbd2-03214b88c89d",
        "colab": {
          "base_uri": "https://localhost:8080/",
          "height": 34
        }
      },
      "source": [
        "#insert() --> inserts an element at the given position\n",
        "list1 = [1,2,3,4,5]\n",
        "list1.insert(3,100)\n",
        "print(list1)"
      ],
      "execution_count": 0,
      "outputs": [
        {
          "output_type": "stream",
          "text": [
            "[1, 2, 3, 100, 4, 5]\n"
          ],
          "name": "stdout"
        }
      ]
    },
    {
      "cell_type": "code",
      "metadata": {
        "id": "RZRWdJKUJ1pa",
        "colab_type": "code",
        "outputId": "aae4f5ad-ecb2-40ff-b884-0a8a58417c50",
        "colab": {
          "base_uri": "https://localhost:8080/",
          "height": 34
        }
      },
      "source": [
        "#insert() --> inserts an element at the given position\n",
        "list1 = [1,2,3,9,5]\n",
        "list1.insert(2,100)\n",
        "print(list1)"
      ],
      "execution_count": 0,
      "outputs": [
        {
          "output_type": "stream",
          "text": [
            "[1, 2, 100, 3, 9, 5]\n"
          ],
          "name": "stdout"
        }
      ]
    },
    {
      "cell_type": "code",
      "metadata": {
        "id": "2dpB5ciUKDoA",
        "colab_type": "code",
        "outputId": "cdec9f9b-08d0-4c3b-bab7-1bcda8110ffa",
        "colab": {
          "base_uri": "https://localhost:8080/",
          "height": 34
        }
      },
      "source": [
        "#extend : inserting multiple values\n",
        "list1.extend([8,9,10])\n",
        "print(list1)"
      ],
      "execution_count": 0,
      "outputs": [
        {
          "output_type": "stream",
          "text": [
            "[1, 2, 100, 3, 9, 5, 8, 9, 10]\n"
          ],
          "name": "stdout"
        }
      ]
    },
    {
      "cell_type": "code",
      "metadata": {
        "id": "zwbTJaQLKePt",
        "colab_type": "code",
        "outputId": "f28ecc44-ca12-43b8-fdb2-5ea4a34567b8",
        "colab": {
          "base_uri": "https://localhost:8080/",
          "height": 51
        }
      },
      "source": [
        "#Removing elements\n",
        "#pop() --> removes an element at the specified index else -1 index will be\n",
        "#removed\n",
        "list1 = [1,2,3,4,5]\n",
        "list1.pop()\n",
        "print(list1)\n",
        "list1.pop(2)\n",
        "print(list1)"
      ],
      "execution_count": 0,
      "outputs": [
        {
          "output_type": "stream",
          "text": [
            "[1, 2, 3, 4]\n",
            "[1, 2, 4]\n"
          ],
          "name": "stdout"
        }
      ]
    },
    {
      "cell_type": "code",
      "metadata": {
        "id": "x1ZXQK9yLP0e",
        "colab_type": "code",
        "outputId": "1008521b-de99-43fb-a866-8bdade4d08b2",
        "colab": {
          "base_uri": "https://localhost:8080/",
          "height": 34
        }
      },
      "source": [
        "#Removing elements\n",
        "#pop() --> removes an element at the specified index else -1 index will be\n",
        "#removed\n",
        "list1 = [1,2,3,4,5]\n",
        "#list1.pop()\n",
        "#print(list1)\n",
        "list1.pop(2)\n",
        "print(list1)"
      ],
      "execution_count": 0,
      "outputs": [
        {
          "output_type": "stream",
          "text": [
            "[1, 2, 4, 5]\n"
          ],
          "name": "stdout"
        }
      ]
    },
    {
      "cell_type": "code",
      "metadata": {
        "id": "zU_jHvg2LRcY",
        "colab_type": "code",
        "outputId": "35f106ff-bff4-4bfa-e8b8-75ad4bb8d28d",
        "colab": {
          "base_uri": "https://localhost:8080/",
          "height": 197
        }
      },
      "source": [
        "#remove --> removes the specified element\n",
        "list1.remove(9)\n",
        "print(list1)"
      ],
      "execution_count": 0,
      "outputs": [
        {
          "output_type": "error",
          "ename": "ValueError",
          "evalue": "ignored",
          "traceback": [
            "\u001b[0;31m---------------------------------------------------------------------------\u001b[0m",
            "\u001b[0;31mValueError\u001b[0m                                Traceback (most recent call last)",
            "\u001b[0;32m<ipython-input-16-8dbd7d38fd57>\u001b[0m in \u001b[0;36m<module>\u001b[0;34m()\u001b[0m\n\u001b[1;32m      1\u001b[0m \u001b[0;31m#remove --> removes the specified element\u001b[0m\u001b[0;34m\u001b[0m\u001b[0;34m\u001b[0m\u001b[0;34m\u001b[0m\u001b[0m\n\u001b[0;32m----> 2\u001b[0;31m \u001b[0mlist1\u001b[0m\u001b[0;34m.\u001b[0m\u001b[0mremove\u001b[0m\u001b[0;34m(\u001b[0m\u001b[0;36m9\u001b[0m\u001b[0;34m)\u001b[0m\u001b[0;34m\u001b[0m\u001b[0;34m\u001b[0m\u001b[0m\n\u001b[0m\u001b[1;32m      3\u001b[0m \u001b[0mprint\u001b[0m\u001b[0;34m(\u001b[0m\u001b[0mlist1\u001b[0m\u001b[0;34m)\u001b[0m\u001b[0;34m\u001b[0m\u001b[0;34m\u001b[0m\u001b[0m\n",
            "\u001b[0;31mValueError\u001b[0m: list.remove(x): x not in list"
          ]
        }
      ]
    },
    {
      "cell_type": "code",
      "metadata": {
        "id": "6bePEpIWLcil",
        "colab_type": "code",
        "outputId": "57f192b5-d788-48be-9d75-e0166e1be85f",
        "colab": {
          "base_uri": "https://localhost:8080/",
          "height": 214
        }
      },
      "source": [
        "#remove --> removes the specified element\n",
        "list = [1,2,3,4,5,6,7,8,9]\n",
        "list1.remove(8)\n",
        "print(list1)"
      ],
      "execution_count": 0,
      "outputs": [
        {
          "output_type": "error",
          "ename": "ValueError",
          "evalue": "ignored",
          "traceback": [
            "\u001b[0;31m---------------------------------------------------------------------------\u001b[0m",
            "\u001b[0;31mValueError\u001b[0m                                Traceback (most recent call last)",
            "\u001b[0;32m<ipython-input-18-b03a60304305>\u001b[0m in \u001b[0;36m<module>\u001b[0;34m()\u001b[0m\n\u001b[1;32m      1\u001b[0m \u001b[0;31m#remove --> removes the specified element\u001b[0m\u001b[0;34m\u001b[0m\u001b[0;34m\u001b[0m\u001b[0;34m\u001b[0m\u001b[0m\n\u001b[1;32m      2\u001b[0m \u001b[0mlist\u001b[0m \u001b[0;34m=\u001b[0m \u001b[0;34m[\u001b[0m\u001b[0;36m1\u001b[0m\u001b[0;34m,\u001b[0m\u001b[0;36m2\u001b[0m\u001b[0;34m,\u001b[0m\u001b[0;36m3\u001b[0m\u001b[0;34m,\u001b[0m\u001b[0;36m4\u001b[0m\u001b[0;34m,\u001b[0m\u001b[0;36m5\u001b[0m\u001b[0;34m,\u001b[0m\u001b[0;36m6\u001b[0m\u001b[0;34m,\u001b[0m\u001b[0;36m7\u001b[0m\u001b[0;34m,\u001b[0m\u001b[0;36m8\u001b[0m\u001b[0;34m,\u001b[0m\u001b[0;36m9\u001b[0m\u001b[0;34m]\u001b[0m\u001b[0;34m\u001b[0m\u001b[0;34m\u001b[0m\u001b[0m\n\u001b[0;32m----> 3\u001b[0;31m \u001b[0mlist1\u001b[0m\u001b[0;34m.\u001b[0m\u001b[0mremove\u001b[0m\u001b[0;34m(\u001b[0m\u001b[0;36m8\u001b[0m\u001b[0;34m)\u001b[0m\u001b[0;34m\u001b[0m\u001b[0;34m\u001b[0m\u001b[0m\n\u001b[0m\u001b[1;32m      4\u001b[0m \u001b[0mprint\u001b[0m\u001b[0;34m(\u001b[0m\u001b[0mlist1\u001b[0m\u001b[0;34m)\u001b[0m\u001b[0;34m\u001b[0m\u001b[0;34m\u001b[0m\u001b[0m\n",
            "\u001b[0;31mValueError\u001b[0m: list.remove(x): x not in list"
          ]
        }
      ]
    },
    {
      "cell_type": "code",
      "metadata": {
        "id": "PLQm049vLtZ6",
        "colab_type": "code",
        "outputId": "2a17cbbd-c92a-4b2d-b967-07d74af16f91",
        "colab": {
          "base_uri": "https://localhost:8080/",
          "height": 34
        }
      },
      "source": [
        "#clear --> removes all the elements of the list\n",
        "list1.clear()\n",
        "print(list1)"
      ],
      "execution_count": 0,
      "outputs": [
        {
          "output_type": "stream",
          "text": [
            "[]\n"
          ],
          "name": "stdout"
        }
      ]
    },
    {
      "cell_type": "code",
      "metadata": {
        "id": "RALDIatHMF7g",
        "colab_type": "code",
        "outputId": "c7e4d62c-c97d-434c-f2cf-813f34988d18",
        "colab": {
          "base_uri": "https://localhost:8080/",
          "height": 51
        }
      },
      "source": [
        "list1 = [23,34,56,76,68,79,80,78,76]\n",
        "print(list1.index(34))#returns index of an element\n",
        "print(list1.count(76))#frequency of the element"
      ],
      "execution_count": 0,
      "outputs": [
        {
          "output_type": "stream",
          "text": [
            "1\n",
            "2\n"
          ],
          "name": "stdout"
        }
      ]
    },
    {
      "cell_type": "code",
      "metadata": {
        "id": "NcMSLygFMhrT",
        "colab_type": "code",
        "outputId": "9347acf7-3ff8-4fe6-a24c-72cc7cf1b10f",
        "colab": {
          "base_uri": "https://localhost:8080/",
          "height": 51
        }
      },
      "source": [
        "#sort() -->sorts the list elements in Ascending order\n",
        "#Descending order\n",
        "list1.sort(reverse=True)\n",
        "print(list1)\n",
        "#Ascending order\n",
        "list1.sort(reverse=False)\n",
        "print(list1)"
      ],
      "execution_count": 0,
      "outputs": [
        {
          "output_type": "stream",
          "text": [
            "[80, 79, 78, 76, 76, 68, 56, 34, 23]\n",
            "[23, 34, 56, 68, 76, 76, 78, 79, 80]\n"
          ],
          "name": "stdout"
        }
      ]
    },
    {
      "cell_type": "code",
      "metadata": {
        "id": "IZjRi-C2Ml8U",
        "colab_type": "code",
        "outputId": "514188c0-b10c-4513-8016-506240ca1218",
        "colab": {
          "base_uri": "https://localhost:8080/",
          "height": 34
        }
      },
      "source": [
        "#reverse() -->reverses all the list elements\n",
        "list1.reverse()\n",
        "print(list1)"
      ],
      "execution_count": 0,
      "outputs": [
        {
          "output_type": "stream",
          "text": [
            "[80, 79, 78, 76, 76, 68, 56, 34, 23]\n"
          ],
          "name": "stdout"
        }
      ]
    },
    {
      "cell_type": "code",
      "metadata": {
        "id": "5DQJwACpNM05",
        "colab_type": "code",
        "outputId": "be026c35-026e-4307-c30b-3903d301b116",
        "colab": {
          "base_uri": "https://localhost:8080/",
          "height": 68
        }
      },
      "source": [
        "#copy() --> copies all the elements from one list to other\n",
        "#shallow copy take place with copy()\n",
        "list1 = [1,2,3,4,5]\n",
        "list2 = []\n",
        "list3 = []\n",
        "list2 = list1\n",
        "print(list2)\n",
        "list3 = list1.copy()\n",
        "print(list3)\n",
        "list1.append(6)\n",
        "list1.append(7)\n",
        "print(list1,list2,list3)"
      ],
      "execution_count": 0,
      "outputs": [
        {
          "output_type": "stream",
          "text": [
            "[1, 2, 3, 4, 5]\n",
            "[1, 2, 3, 4, 5]\n",
            "[1, 2, 3, 4, 5, 6, 7] [1, 2, 3, 4, 5, 6, 7] [1, 2, 3, 4, 5]\n"
          ],
          "name": "stdout"
        }
      ]
    },
    {
      "cell_type": "markdown",
      "metadata": {
        "id": "kVKiODM1Nq7Z",
        "colab_type": "text"
      },
      "source": [
        "### File Handling:\n",
        "1. create\n",
        "2. add some text\n",
        "3. save\n",
        "4. read\n",
        "5. appending\n",
        "6. rename\n",
        "7. remove"
      ]
    },
    {
      "cell_type": "markdown",
      "metadata": {
        "id": "Wp239s4BN12c",
        "colab_type": "text"
      },
      "source": [
        "###Modes:\n",
        "1. write(w)\n",
        "2. read(r)\n",
        "3. append(a)\n",
        "4. new file creation(x)\n",
        "\n",
        "\n",
        "1. open()\n",
        "2. close()"
      ]
    },
    {
      "cell_type": "code",
      "metadata": {
        "id": "6hSId88IOrOo",
        "colab_type": "code",
        "colab": {}
      },
      "source": [
        "#creating a file and opening that file in write mode\n",
        "f = open(\"sample.txt\",\"w\")\n",
        "#adding content to the file\n",
        "f.write(\"Hello Everyone!!!\")\n",
        "f.close()"
      ],
      "execution_count": 0,
      "outputs": []
    },
    {
      "cell_type": "code",
      "metadata": {
        "id": "QyYBrYueO0-a",
        "colab_type": "code",
        "outputId": "02cd7155-e3da-4b29-b6b9-cb0ebcab469d",
        "colab": {
          "base_uri": "https://localhost:8080/",
          "height": 34
        }
      },
      "source": [
        "#opening a file in read mode\n",
        "f = open(\"sample.txt\",\"r\")\n",
        "#reading the entire file content\n",
        "data = f.read()\n",
        "print(data)\n",
        "f.close()"
      ],
      "execution_count": 0,
      "outputs": [
        {
          "output_type": "stream",
          "text": [
            "Hello Everyone!!!\n"
          ],
          "name": "stdout"
        }
      ]
    },
    {
      "cell_type": "code",
      "metadata": {
        "id": "ChEPHgHsPDnN",
        "colab_type": "code",
        "colab": {}
      },
      "source": [
        "#opening a file in append mode\n",
        "f = open(\"sample.txt\",\"a\")\n",
        "s = '''\\nHow are doing all??\n",
        "stay home!!!'''\n",
        "#appending content to the file\n",
        "f.write(s)\n",
        "f.close()"
      ],
      "execution_count": 0,
      "outputs": []
    },
    {
      "cell_type": "code",
      "metadata": {
        "id": "ncyVhbwDPtFm",
        "colab_type": "code",
        "colab": {}
      },
      "source": [
        "#opening a file in append mode\n",
        "f = open(\"sample.txt\",\"a\")\n",
        "s = '''\\nHow are doing all??\n",
        "stay home!!!'''\n",
        "#appending content to the file\n",
        "f.write(s)\n",
        "f.close()"
      ],
      "execution_count": 0,
      "outputs": []
    },
    {
      "cell_type": "code",
      "metadata": {
        "id": "-XAr-jw1PnDP",
        "colab_type": "code",
        "outputId": "922057c8-bee9-46ae-9aad-8809d2670234",
        "colab": {
          "base_uri": "https://localhost:8080/",
          "height": 68
        }
      },
      "source": [
        "f = open(\"sample.txt\",\"r\")\n",
        "data = f.read()\n",
        "print(data)\n",
        "f.close()"
      ],
      "execution_count": 0,
      "outputs": [
        {
          "output_type": "stream",
          "text": [
            "Hello Everyone!!!\n",
            "How are doing all??\n",
            "stay home!!!\n"
          ],
          "name": "stdout"
        }
      ]
    },
    {
      "cell_type": "code",
      "metadata": {
        "id": "VV69LkOQQFRk",
        "colab_type": "code",
        "outputId": "b0eeabda-f1b1-4473-a72e-c954b240f821",
        "colab": {
          "base_uri": "https://localhost:8080/",
          "height": 85
        }
      },
      "source": [
        "f = \"sample.txt\"\n",
        "linescount = 0\n",
        "wordscount = 0\n",
        "letterscount = 0\n",
        "with open(\"sample.txt\",\"r\") as files:\n",
        "  for i in files:\n",
        "    linescount = linescount+1\n",
        "    wordscount = wordscount+1\n",
        "    letterscount = letterscount+1\n",
        "print()\n",
        "print(linescount)\n",
        "print(wordscount )\n",
        "print(letterscount)\n"
      ],
      "execution_count": 0,
      "outputs": [
        {
          "output_type": "stream",
          "text": [
            "\n",
            "6\n",
            "6\n",
            "6\n"
          ],
          "name": "stdout"
        }
      ]
    },
    {
      "cell_type": "code",
      "metadata": {
        "id": "UhYrwI3-0qNf",
        "colab_type": "code",
        "outputId": "9cf62323-dc9d-46d0-919b-ff34198b3389",
        "colab": {
          "base_uri": "https://localhost:8080/",
          "height": 68
        }
      },
      "source": [
        "def wordcount(file):\n",
        "  wordscount = 0\n",
        "  for line in file:\n",
        "    words = line.split()\n",
        "    wordscnt = wordscount+len(words)\n",
        "  return wordscount\n",
        "def alphacount(file):\n",
        "  alphacount = 0\n",
        "  for line in file:\n",
        "      for ch in line:\n",
        "        if ch.isalpha() == True:\n",
        "          alphacount = alphacount+1\n",
        "  return alphacount\n",
        "def linescount(file):\n",
        "  linescount = 0\n",
        "  for line in file:\n",
        "    linescount = linescount+1\n",
        "  return linescount\n",
        "f = \"sample.txt\"\n",
        "file = open(\"sample.txt\",\"r\")\n",
        "print(wordscount)\n",
        "file.seek(0,0)\n",
        "print(alphacount)\n",
        "file.seek(0,0)\n",
        "print(linescount)\n",
        "file.close()"
      ],
      "execution_count": 0,
      "outputs": [
        {
          "output_type": "stream",
          "text": [
            "6\n",
            "<function alphacount at 0x7fbf3b148510>\n",
            "<function linescount at 0x7fbf3b148f28>\n"
          ],
          "name": "stdout"
        }
      ]
    }
  ]
}