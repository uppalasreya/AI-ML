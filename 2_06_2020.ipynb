{
  "nbformat": 4,
  "nbformat_minor": 0,
  "metadata": {
    "colab": {
      "name": "2-06-2020",
      "provenance": [],
      "collapsed_sections": [],
      "authorship_tag": "ABX9TyPR6udVB3OLRJa0DRhLuOb8",
      "include_colab_link": true
    },
    "kernelspec": {
      "name": "python3",
      "display_name": "Python 3"
    }
  },
  "cells": [
    {
      "cell_type": "markdown",
      "metadata": {
        "id": "view-in-github",
        "colab_type": "text"
      },
      "source": [
        "<a href=\"https://colab.research.google.com/github/uppalasreya/AI-ML/blob/master/2_06_2020.ipynb\" target=\"_parent\"><img src=\"https://colab.research.google.com/assets/colab-badge.svg\" alt=\"Open In Colab\"/></a>"
      ]
    },
    {
      "cell_type": "code",
      "metadata": {
        "id": "-E-9OUP9zqkw",
        "colab_type": "code",
        "colab": {}
      },
      "source": [
        "#folder\n",
        "import os\n",
        "import string\n",
        "import random\n",
        "#os.mkdir(\"pythons class\")\n",
        "for i in range(1,6):\n",
        "  file_name = '/content/pythons class/file%d'%(i)\n",
        "  f = open(\"file_name\",\"w\")\n",
        "  data = \" \"\n",
        "  for i in range(512):\n",
        "    data = data + random.choice(string.ascii_letters)\n",
        "  f.write(data)\n",
        "  f.close()"
      ],
      "execution_count": 0,
      "outputs": []
    },
    {
      "cell_type": "code",
      "metadata": {
        "id": "P-Jfgu_k0RT1",
        "colab_type": "code",
        "outputId": "491bbd56-f194-4948-947a-df4ea0bd384b",
        "colab": {
          "base_uri": "https://localhost:8080/",
          "height": 34
        }
      },
      "source": [
        "pwd"
      ],
      "execution_count": 0,
      "outputs": [
        {
          "output_type": "execute_result",
          "data": {
            "text/plain": [
              "'/content'"
            ]
          },
          "metadata": {
            "tags": []
          },
          "execution_count": 1
        }
      ]
    },
    {
      "cell_type": "code",
      "metadata": {
        "id": "6qTj7A8d5IPD",
        "colab_type": "code",
        "colab": {}
      },
      "source": [
        "#Assignment Question\n",
        "#Folder --> 5 files --> unique --> 512bits\n",
        "import os\n",
        "import string\n",
        "import random\n",
        "os.mkdir(\"python class\")\n",
        "for i in range(1,6):\n",
        "    file_name = \"C:\\\\Users\\\\preeti kotagiri\\\\Desktop\\\\PZIT\\\\summer internship\\\\AI and ML\\\\python class\\\\file%d\"%(i)\n",
        "    f = open(file_name,\"w\")\n",
        "    data = \"\"\n",
        "    for i in range(512):\n",
        "        data = data + random.choice(string.ascii_letters)\n",
        "    f.write(data)\n",
        "    f.close()"
      ],
      "execution_count": 0,
      "outputs": []
    },
    {
      "cell_type": "markdown",
      "metadata": {
        "id": "qnPYBNNUCxqu",
        "colab_type": "text"
      },
      "source": [
        "### List Comprehension:"
      ]
    },
    {
      "cell_type": "code",
      "metadata": {
        "id": "s9Lc_XkM5S1B",
        "colab_type": "code",
        "outputId": "e3f4ab87-5d79-4912-bf91-0b95ca8c98de",
        "colab": {
          "base_uri": "https://localhost:8080/",
          "height": 34
        }
      },
      "source": [
        "#create another list with even elements of list1\n",
        "list1 = list(range(1,11))\n",
        "list2 = []\n",
        "for i in list1:\n",
        "    if i%2 == 0:\n",
        "        list2.append(i)\n",
        "print(list2)    "
      ],
      "execution_count": 0,
      "outputs": [
        {
          "output_type": "stream",
          "text": [
            "[2, 4, 6, 8, 10]\n"
          ],
          "name": "stdout"
        }
      ]
    },
    {
      "cell_type": "code",
      "metadata": {
        "id": "33evnFhf8cEH",
        "colab_type": "code",
        "outputId": "36ba2a5c-f9b2-4438-9f0c-e69594a5e3d2",
        "colab": {
          "base_uri": "https://localhost:8080/",
          "height": 34
        }
      },
      "source": [
        "#List Comprehension\n",
        "list3 = [i for i in list1 if i%2 == 0]\n",
        "list3"
      ],
      "execution_count": 0,
      "outputs": [
        {
          "output_type": "execute_result",
          "data": {
            "text/plain": [
              "[2, 4, 6, 8, 10]"
            ]
          },
          "metadata": {
            "tags": []
          },
          "execution_count": 6
        }
      ]
    },
    {
      "cell_type": "code",
      "metadata": {
        "id": "KG8sTiJW87dj",
        "colab_type": "code",
        "outputId": "0fe675f4-9138-40ed-9c67-bd9b46a57ef7",
        "colab": {
          "base_uri": "https://localhost:8080/",
          "height": 51
        }
      },
      "source": [
        "#Accept string as an input and print all the digits and count of the digits\n",
        "#using list comprehension\n",
        "#input : \"Hello 12345\"\n",
        "#output : ['1','2','3','4','5'],5\n",
        "string = input(\"enter a string:\")\n",
        "list4 = [ch for ch in string if ch.isdigit()]\n",
        "print(list4,len(list4))"
      ],
      "execution_count": 0,
      "outputs": [
        {
          "output_type": "stream",
          "text": [
            "enter a string:hello 12345\n",
            "['1', '2', '3', '4', '5'] 5\n"
          ],
          "name": "stdout"
        }
      ]
    },
    {
      "cell_type": "code",
      "metadata": {
        "id": "dbIW3yTH9RHT",
        "colab_type": "code",
        "outputId": "be0d2212-a87d-474c-fd4f-8ddafb960b54",
        "colab": {
          "base_uri": "https://localhost:8080/",
          "height": 34
        }
      },
      "source": [
        "list5 = list(range(1,11))\n",
        "list6 = list(range(11,21))\n",
        "print(list5,list6)"
      ],
      "execution_count": 0,
      "outputs": [
        {
          "output_type": "stream",
          "text": [
            "[1, 2, 3, 4, 5, 6, 7, 8, 9, 10] [11, 12, 13, 14, 15, 16, 17, 18, 19, 20]\n"
          ],
          "name": "stdout"
        }
      ]
    },
    {
      "cell_type": "code",
      "metadata": {
        "id": "qld94CAJ-p2S",
        "colab_type": "code",
        "outputId": "53106c8b-8ebb-4847-b945-0d71511ee5c9",
        "colab": {
          "base_uri": "https://localhost:8080/",
          "height": 34
        }
      },
      "source": [
        "res = [list5[i]+list6[i] for i in range(len(list5))]\n",
        "res"
      ],
      "execution_count": 0,
      "outputs": [
        {
          "output_type": "execute_result",
          "data": {
            "text/plain": [
              "[12, 14, 16, 18, 20, 22, 24, 26, 28, 30]"
            ]
          },
          "metadata": {
            "tags": []
          },
          "execution_count": 9
        }
      ]
    },
    {
      "cell_type": "code",
      "metadata": {
        "id": "66Rl8Ndv_ZhV",
        "colab_type": "code",
        "outputId": "b4706a95-5949-4cde-fa40-dfbd75cf8d95",
        "colab": {
          "base_uri": "https://localhost:8080/",
          "height": 34
        }
      },
      "source": [
        "# zip()\n",
        "list9 = list(range(1,12))\n",
        "list10 = list(range(12,22))\n",
        "res = [x + y for x,y in zip(list9,list10)]\n",
        "res"
      ],
      "execution_count": 0,
      "outputs": [
        {
          "output_type": "execute_result",
          "data": {
            "text/plain": [
              "[13, 15, 17, 19, 21, 23, 25, 27, 29, 31]"
            ]
          },
          "metadata": {
            "tags": []
          },
          "execution_count": 12
        }
      ]
    },
    {
      "cell_type": "markdown",
      "metadata": {
        "id": "QAx4NBY-B1bz",
        "colab_type": "text"
      },
      "source": [
        "### Anonymous function(lambda functions):\n",
        "\n",
        "```lambda arguments : logic ```"
      ]
    },
    {
      "cell_type": "code",
      "metadata": {
        "id": "kh8acJgWCPyr",
        "colab_type": "code",
        "outputId": "b9f90b1f-05c5-45a5-ff1a-9a7367a9d038",
        "colab": {
          "base_uri": "https://localhost:8080/",
          "height": 34
        }
      },
      "source": [
        "s = lambda x : x**2\n",
        "s(12)"
      ],
      "execution_count": 0,
      "outputs": [
        {
          "output_type": "execute_result",
          "data": {
            "text/plain": [
              "144"
            ]
          },
          "metadata": {
            "tags": []
          },
          "execution_count": 14
        }
      ]
    },
    {
      "cell_type": "code",
      "metadata": {
        "id": "zGNeji2zCax-",
        "colab_type": "code",
        "outputId": "df92316a-2ca7-4da2-fca4-f9e01eafce96",
        "colab": {
          "base_uri": "https://localhost:8080/",
          "height": 34
        }
      },
      "source": [
        "add = lambda x,y : x+y\n",
        "add(10,20)"
      ],
      "execution_count": 0,
      "outputs": [
        {
          "output_type": "execute_result",
          "data": {
            "text/plain": [
              "30"
            ]
          },
          "metadata": {
            "tags": []
          },
          "execution_count": 15
        }
      ]
    },
    {
      "cell_type": "markdown",
      "metadata": {
        "id": "-J6b9VT_DBdN",
        "colab_type": "text"
      },
      "source": [
        "### map():\n",
        "```map(function_name,iterable object)```"
      ]
    },
    {
      "cell_type": "code",
      "metadata": {
        "id": "87od2D18DGpK",
        "colab_type": "code",
        "outputId": "44a03444-529e-489a-8db9-4f494ec44bc1",
        "colab": {
          "base_uri": "https://localhost:8080/",
          "height": 34
        }
      },
      "source": [
        "list6 = list(range(1,11))\n",
        "list6"
      ],
      "execution_count": 0,
      "outputs": [
        {
          "output_type": "execute_result",
          "data": {
            "text/plain": [
              "[1, 2, 3, 4, 5, 6, 7, 8, 9, 10]"
            ]
          },
          "metadata": {
            "tags": []
          },
          "execution_count": 16
        }
      ]
    },
    {
      "cell_type": "code",
      "metadata": {
        "id": "ruB74bMBDOvW",
        "colab_type": "code",
        "outputId": "8f3415e7-3757-404c-811d-01b8562f12ca",
        "colab": {
          "base_uri": "https://localhost:8080/",
          "height": 34
        }
      },
      "source": [
        "#output : [2,4,6,8,10,12,14,16,18,20]\n",
        "result = [i*2 for i in list6]\n",
        "result"
      ],
      "execution_count": 0,
      "outputs": [
        {
          "output_type": "execute_result",
          "data": {
            "text/plain": [
              "[2, 4, 6, 8, 10, 12, 14, 16, 18, 20]"
            ]
          },
          "metadata": {
            "tags": []
          },
          "execution_count": 17
        }
      ]
    },
    {
      "cell_type": "code",
      "metadata": {
        "id": "IrXcIyQGEyWQ",
        "colab_type": "code",
        "outputId": "5aea8d66-fbb5-47c0-cf10-72252a51b325",
        "colab": {
          "base_uri": "https://localhost:8080/",
          "height": 34
        }
      },
      "source": [
        "#map(function_name,iterable object)\n",
        "result = list(map(lambda i : i*2,list6))\n",
        "result"
      ],
      "execution_count": 0,
      "outputs": [
        {
          "output_type": "execute_result",
          "data": {
            "text/plain": [
              "[2, 4, 6, 8, 10, 12, 14, 16, 18, 20]"
            ]
          },
          "metadata": {
            "tags": []
          },
          "execution_count": 21
        }
      ]
    },
    {
      "cell_type": "code",
      "metadata": {
        "id": "IU244tX7FB4d",
        "colab_type": "code",
        "outputId": "535a673e-983a-4fa2-92cc-0795df6ebb8e",
        "colab": {
          "base_uri": "https://localhost:8080/",
          "height": 51
        }
      },
      "source": [
        "#Unpacking\n",
        "x,y,z = list(map(int,input(\"enter your input:\").split()))\n",
        "print(x,y,z)"
      ],
      "execution_count": 0,
      "outputs": [
        {
          "output_type": "stream",
          "text": [
            "enter your input:34 76 99\n",
            "34 76 99\n"
          ],
          "name": "stdout"
        }
      ]
    },
    {
      "cell_type": "code",
      "metadata": {
        "id": "hYE8YR7OHMzr",
        "colab_type": "code",
        "outputId": "ac84de19-450e-47af-8bca-a6da06a32ec2",
        "colab": {
          "base_uri": "https://localhost:8080/",
          "height": 68
        }
      },
      "source": [
        "list1 = list(range(1,16))\n",
        "for i in list1:\n",
        "  if i % 5 == 0:\n",
        "    print(i)"
      ],
      "execution_count": 0,
      "outputs": [
        {
          "output_type": "stream",
          "text": [
            "5\n",
            "10\n",
            "15\n"
          ],
          "name": "stdout"
        }
      ]
    },
    {
      "cell_type": "code",
      "metadata": {
        "id": "6DlVCCl3LdGh",
        "colab_type": "code",
        "outputId": "be3f656e-4a9b-42ef-de96-4bfcb9a3906c",
        "colab": {
          "base_uri": "https://localhost:8080/",
          "height": 34
        }
      },
      "source": [
        "result = []\n",
        "for i in list6:\n",
        "    if i%5 == 0:\n",
        "        result.append(i)\n",
        "result"
      ],
      "execution_count": 0,
      "outputs": [
        {
          "output_type": "execute_result",
          "data": {
            "text/plain": [
              "[5, 10]"
            ]
          },
          "metadata": {
            "tags": []
          },
          "execution_count": 43
        }
      ]
    },
    {
      "cell_type": "code",
      "metadata": {
        "id": "UiUvJKQ4KCM-",
        "colab_type": "code",
        "outputId": "5390d5f9-25b5-4c88-a8b2-bf987b315978",
        "colab": {
          "base_uri": "https://localhost:8080/",
          "height": 34
        }
      },
      "source": [
        "res = list(filter(lambda x : (x%5==0),list1))\n",
        "res"
      ],
      "execution_count": 0,
      "outputs": [
        {
          "output_type": "execute_result",
          "data": {
            "text/plain": [
              "[5, 10, 15]"
            ]
          },
          "metadata": {
            "tags": []
          },
          "execution_count": 42
        }
      ]
    },
    {
      "cell_type": "markdown",
      "metadata": {
        "id": "RzDzIHu9LW7l",
        "colab_type": "text"
      },
      "source": [
        "### Reduce()"
      ]
    },
    {
      "cell_type": "code",
      "metadata": {
        "id": "r7xWNXLdLaFu",
        "colab_type": "code",
        "colab": {}
      },
      "source": [
        "from functools import reduce"
      ],
      "execution_count": 0,
      "outputs": []
    },
    {
      "cell_type": "code",
      "metadata": {
        "id": "wOo5xXdIN1ki",
        "colab_type": "code",
        "outputId": "da654665-3872-4b04-edd7-08e3eea32916",
        "colab": {
          "base_uri": "https://localhost:8080/",
          "height": 34
        }
      },
      "source": [
        "#Traditional\n",
        "list1 = [1,2,3,4,5]\n",
        "#output : 120\n",
        "m = 1\n",
        "for i in list1:\n",
        "    m *= i\n",
        "print(m)"
      ],
      "execution_count": 0,
      "outputs": [
        {
          "output_type": "stream",
          "text": [
            "120\n"
          ],
          "name": "stdout"
        }
      ]
    },
    {
      "cell_type": "code",
      "metadata": {
        "id": "W3Xfs1VAN32j",
        "colab_type": "code",
        "outputId": "1f6a2fe5-f213-4bfa-9f1d-979fc4f60dc2",
        "colab": {
          "base_uri": "https://localhost:8080/",
          "height": 34
        }
      },
      "source": [
        "reduce(lambda x,y:x*y,list1)\n",
        "#[1,2,3,4,5] ==> 2,3,4,5 ==> 6,4,5 ==> 24,5 ==> F120"
      ],
      "execution_count": 0,
      "outputs": [
        {
          "output_type": "execute_result",
          "data": {
            "text/plain": [
              "120"
            ]
          },
          "metadata": {
            "tags": []
          },
          "execution_count": 51
        }
      ]
    }
  ]
}