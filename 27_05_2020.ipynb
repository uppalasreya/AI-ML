{
  "nbformat": 4,
  "nbformat_minor": 0,
  "metadata": {
    "colab": {
      "name": "27-05-2020",
      "provenance": [],
      "collapsed_sections": [],
      "authorship_tag": "ABX9TyPOGS10gw4V0Y0YQ/EHDTKw",
      "include_colab_link": true
    },
    "kernelspec": {
      "name": "python3",
      "display_name": "Python 3"
    }
  },
  "cells": [
    {
      "cell_type": "markdown",
      "metadata": {
        "id": "view-in-github",
        "colab_type": "text"
      },
      "source": [
        "<a href=\"https://colab.research.google.com/github/uppalasreya/AI-ML/blob/master/27_05_2020.ipynb\" target=\"_parent\"><img src=\"https://colab.research.google.com/assets/colab-badge.svg\" alt=\"Open In Colab\"/></a>"
      ]
    },
    {
      "cell_type": "markdown",
      "metadata": {
        "id": "0960NKCBiTdL",
        "colab_type": "text"
      },
      "source": [
        "#python programming\n",
        "##python programming\n",
        "###python programming\n",
        "####python programming\n",
        "#####python programming\n",
        "######python programming"
      ]
    },
    {
      "cell_type": "markdown",
      "metadata": {
        "id": "nFJa0fipizAp",
        "colab_type": "text"
      },
      "source": [
        "[click here](https://docs.google.com/document/d/1NUWRUi53uEEP8sUAKZGx4nDbi3ExZf0GUEpE5vi8n34/edit)"
      ]
    },
    {
      "cell_type": "markdown",
      "metadata": {
        "id": "-O6-CK_gjY0z",
        "colab_type": "text"
      },
      "source": [
        "![image](https://cdn.pixabay.com/photo/2015/04/23/22/00/tree-736885__340.jpg)"
      ]
    },
    {
      "cell_type": "markdown",
      "metadata": {
        "id": "ITROYwGhjidf",
        "colab_type": "text"
      },
      "source": [
        ""
      ]
    },
    {
      "cell_type": "code",
      "metadata": {
        "id": "uedA3qBgklVW",
        "colab_type": "code",
        "outputId": "d1d061ec-9340-47f2-95f3-d5823d7c9a2d",
        "colab": {
          "base_uri": "https://localhost:8080/",
          "height": 34
        }
      },
      "source": [
        "a = 10 #integer\n",
        "b = 23.34 #float\n",
        "c = 12+3j #Complex number\n",
        "print(type(a),type(b),type(c))\n",
        "\n"
      ],
      "execution_count": 0,
      "outputs": [
        {
          "output_type": "stream",
          "text": [
            "<class 'int'> <class 'float'> <class 'complex'>\n"
          ],
          "name": "stdout"
        }
      ]
    },
    {
      "cell_type": "code",
      "metadata": {
        "id": "RoOrjX9VkwJB",
        "colab_type": "code",
        "outputId": "8b5e665a-cb6e-4aac-90de-881e1eb4cd17",
        "colab": {
          "base_uri": "https://localhost:8080/",
          "height": 68
        }
      },
      "source": [
        "c1 = 4+5j\n",
        "c2 = complex(6,8)\n",
        "print(c1+c2)\n",
        "print(c2.real)#real part of the complex number\n",
        "print(c2.imag)#imaginary part of the complex number\n"
      ],
      "execution_count": 0,
      "outputs": [
        {
          "output_type": "stream",
          "text": [
            "(10+13j)\n",
            "6.0\n",
            "8.0\n"
          ],
          "name": "stdout"
        }
      ]
    },
    {
      "cell_type": "code",
      "metadata": {
        "id": "-Mo66xXSvUT1",
        "colab_type": "code",
        "outputId": "13bd3d41-6e55-4a7e-d875-02de6ee8064b",
        "colab": {
          "base_uri": "https://localhost:8080/",
          "height": 68
        }
      },
      "source": [
        "a=int(input(\"enter the value of a\"))\n",
        "b=int(input(\"enter the value of b\"))\n",
        "print(a+b,a-b,end\" \")"
      ],
      "execution_count": 0,
      "outputs": [
        {
          "output_type": "stream",
          "text": [
            "enter the value of a5\n",
            "enter the value of b7\n",
            "12 -2\n"
          ],
          "name": "stdout"
        }
      ]
    },
    {
      "cell_type": "code",
      "metadata": {
        "id": "3zKXR0ATxd4x",
        "colab_type": "code",
        "outputId": "bd0c830f-9b1d-4684-99ec-ab1db6acc827",
        "colab": {
          "base_uri": "https://localhost:8080/",
          "height": 85
        }
      },
      "source": [
        "a=int(input(\"enter the value of a\"))\n",
        "b=int(input(\"enter the value of b\"))\n",
        "print(a+b)\n",
        "print(a-b)"
      ],
      "execution_count": 0,
      "outputs": [
        {
          "output_type": "stream",
          "text": [
            "enter the value of a3\n",
            "enter the value of b4\n",
            "7\n",
            "-1\n"
          ],
          "name": "stdout"
        }
      ]
    },
    {
      "cell_type": "code",
      "metadata": {
        "id": "l6VSJWekyfJu",
        "colab_type": "code",
        "outputId": "0d3d722e-fc8a-4a94-a36e-28cb86ae2552",
        "colab": {
          "base_uri": "https://localhost:8080/",
          "height": 68
        }
      },
      "source": [
        "a=int(input(\"enter the value of a\"))\n",
        "b=int(input(\"enter the value of b\"))\n",
        "print(a+b,end=\" \")\n",
        "print(a-b)\n",
        "print(a*b,a/b)"
      ],
      "execution_count": 0,
      "outputs": [
        {
          "output_type": "stream",
          "text": [
            "enter the value of a7\n",
            "enter the value of b4\n",
            "11 3 28 1.75\n"
          ],
          "name": "stdout"
        }
      ]
    },
    {
      "cell_type": "code",
      "metadata": {
        "id": "lYchGcgqzXoo",
        "colab_type": "code",
        "outputId": "eb8b38b7-b6dc-40d8-d480-7d9b7558aa8f",
        "colab": {
          "base_uri": "https://localhost:8080/",
          "height": 85
        }
      },
      "source": [
        "a=int(input(\"enter the value of a\"))\n",
        "b=int(input(\"enter the value of b\"))\n",
        "print(a+b)\n",
        "print(a*b,a/b)"
      ],
      "execution_count": 0,
      "outputs": [
        {
          "output_type": "stream",
          "text": [
            "enter the value of a7\n",
            "enter the value of b14\n",
            "21\n",
            "98 0.5\n"
          ],
          "name": "stdout"
        }
      ]
    },
    {
      "cell_type": "code",
      "metadata": {
        "id": "dIe4fRHN0Hsy",
        "colab_type": "code",
        "outputId": "c1129713-728a-436e-ff67-d7c4b9f43e77",
        "colab": {
          "base_uri": "https://localhost:8080/",
          "height": 68
        }
      },
      "source": [
        "a=int(input(\"enter the value of a\"))\n",
        "b=int(input(\"enter the value of b\"))\n",
        "print(a+b,end=\" \")\n",
        "print(a*b,a/b,sep=\",\")"
      ],
      "execution_count": 0,
      "outputs": [
        {
          "output_type": "stream",
          "text": [
            "enter the value of a7\n",
            "enter the value of b14\n",
            "21 98,0.5\n"
          ],
          "name": "stdout"
        }
      ]
    },
    {
      "cell_type": "code",
      "metadata": {
        "id": "scipINqN09qZ",
        "colab_type": "code",
        "outputId": "60f89ff5-8891-4135-b24b-18ec354e0213",
        "colab": {
          "base_uri": "https://localhost:8080/",
          "height": 170
        }
      },
      "source": [
        "a=int(input(\"enter the value of a\"))\n",
        "b=int(input(\"enter the value of b\"))\n",
        "print(a + b)\n",
        "print(a - b)\n",
        "print(a * b)\n",
        "print(a / b)#float quotient\n",
        "print(a % b)#Remainder\n",
        "print(a // b)#int quotient\n",
        "print(a ** b)# 2 5\n"
      ],
      "execution_count": 0,
      "outputs": [
        {
          "output_type": "stream",
          "text": [
            "enter the value of a3\n",
            "enter the value of b6\n",
            "9\n",
            "-3\n",
            "18\n",
            "0.5\n",
            "3\n",
            "0\n",
            "729\n"
          ],
          "name": "stdout"
        }
      ]
    },
    {
      "cell_type": "code",
      "metadata": {
        "id": "X9AsLBzU1hIK",
        "colab_type": "code",
        "outputId": "3a90546e-7001-47fa-aa32-4eff6ffc71bd",
        "colab": {
          "base_uri": "https://localhost:8080/",
          "height": 170
        }
      },
      "source": [
        "a=int(input(\"enter the value of a\"))\n",
        "b=int(input(\"enter the value of b\"))\n",
        "print(a + b)\n",
        "print(a - b)\n",
        "print(a * b)\n",
        "print(a / b)#float quotient\n",
        "print(a % b)#Remainder\n",
        "print(a // b)#int quotient\n",
        "print(a ** b)# 2 5\n"
      ],
      "execution_count": 0,
      "outputs": [
        {
          "output_type": "stream",
          "text": [
            "enter the value of a6\n",
            "enter the value of b3\n",
            "9\n",
            "3\n",
            "18\n",
            "2.0\n",
            "0\n",
            "2\n",
            "216\n"
          ],
          "name": "stdout"
        }
      ]
    },
    {
      "cell_type": "code",
      "metadata": {
        "id": "l_UHHa1b11Zo",
        "colab_type": "code",
        "outputId": "b2f5dd62-21e3-4c27-a9cd-fc1dbfe05493",
        "colab": {
          "base_uri": "https://localhost:8080/",
          "height": 170
        }
      },
      "source": [
        "a=int(input(\"enter the value of a\"))\n",
        "b=int(input(\"enter the value of b\"))\n",
        "print(a>b)\n",
        "print(a < b)#True\n",
        "print(a > b)\n",
        "print(a <= b)\n",
        "print(a >= b)\n",
        "print(a == b)\n",
        "print(a != b)\n",
        "\n"
      ],
      "execution_count": 0,
      "outputs": [
        {
          "output_type": "stream",
          "text": [
            "enter the value of a6\n",
            "enter the value of b3\n",
            "True\n",
            "False\n",
            "True\n",
            "False\n",
            "True\n",
            "False\n",
            "True\n"
          ],
          "name": "stdout"
        }
      ]
    },
    {
      "cell_type": "code",
      "metadata": {
        "id": "2YJej3ok3bfD",
        "colab_type": "code",
        "outputId": "274b1d4b-9240-4205-a97b-322e687333ad",
        "colab": {
          "base_uri": "https://localhost:8080/",
          "height": 102
        }
      },
      "source": [
        "a=int(input(\"enter the value of a\"))\n",
        "b=int(input(\"enter the value of b\"))\n",
        "print(a < b and a > 1)\n",
        "print(a > 3 or a < 4)\n",
        "print(not a < b)\n"
      ],
      "execution_count": 0,
      "outputs": [
        {
          "output_type": "stream",
          "text": [
            "enter the value of a6\n",
            "enter the value of b3\n",
            "False\n",
            "True\n",
            "True\n"
          ],
          "name": "stdout"
        }
      ]
    },
    {
      "cell_type": "code",
      "metadata": {
        "id": "E5F5UU2H4sWR",
        "colab_type": "code",
        "outputId": "544ac63b-422c-426d-8cf9-8d8976df82d0",
        "colab": {
          "base_uri": "https://localhost:8080/",
          "height": 102
        }
      },
      "source": [
        "a=int(input(\"enter the value of a\"))\n",
        "b=int(input(\"enter the value of b\"))\n",
        "print(a < b and a>1)\n",
        "print(a < b or a>1)\n",
        "print(not a < b)\n",
        "\n"
      ],
      "execution_count": 0,
      "outputs": [
        {
          "output_type": "stream",
          "text": [
            "enter the value of a6\n",
            "enter the value of b3\n",
            "False\n",
            "True\n",
            "True\n"
          ],
          "name": "stdout"
        }
      ]
    },
    {
      "cell_type": "code",
      "metadata": {
        "id": "ad32Xf-s5IMv",
        "colab_type": "code",
        "outputId": "ab0bafe2-b365-4f6c-beba-79173162c2b8",
        "colab": {
          "base_uri": "https://localhost:8080/",
          "height": 68
        }
      },
      "source": [
        "list1 = [12,23,34,45,56,67]\n",
        "print(12 in list1)\n",
        "print(13 not in list1)\n",
        "print(67 not in list1)\n"
      ],
      "execution_count": 0,
      "outputs": [
        {
          "output_type": "stream",
          "text": [
            "True\n",
            "True\n",
            "False\n"
          ],
          "name": "stdout"
        }
      ]
    },
    {
      "cell_type": "code",
      "metadata": {
        "id": "0gn9HuPI52gt",
        "colab_type": "code",
        "outputId": "a7a311c3-240a-4d3b-9750-a3357730c940",
        "colab": {
          "base_uri": "https://localhost:8080/",
          "height": 34
        }
      },
      "source": [
        "if(a<b):\n",
        "  print(\"a is less than b\")\n",
        "elif(a>b):\n",
        "  print(\"a is greater than b\")\n",
        "else:\n",
        "  print(\"a is equal to b\")\n"
      ],
      "execution_count": 0,
      "outputs": [
        {
          "output_type": "stream",
          "text": [
            "a is greater than b\n"
          ],
          "name": "stdout"
        }
      ]
    },
    {
      "cell_type": "code",
      "metadata": {
        "id": "WZ8D_JQU76zP",
        "colab_type": "code",
        "outputId": "8ed3e888-e255-46cc-cd5a-98f3c75fe4f9",
        "colab": {
          "base_uri": "https://localhost:8080/",
          "height": 85
        }
      },
      "source": [
        "a = int(input(\"enter a value\"))\n",
        "b = int(input(\"enter b value\"))\n",
        "c = int(input(\"enter c value\"))\n",
        "if(a>b and a>c):\n",
        "    print(\"largest number is a:\",a)\n",
        "elif(b>c):\n",
        "    print(\"largest number is b:\",b)\n",
        "else:\n",
        "    print(\"largest number is c:\",c)\n",
        "\n",
        "\n"
      ],
      "execution_count": 0,
      "outputs": [
        {
          "output_type": "stream",
          "text": [
            "enter a value1\n",
            "enter b value2\n",
            "enter c value3\n",
            "largest number is c: 3\n"
          ],
          "name": "stdout"
        }
      ]
    },
    {
      "cell_type": "code",
      "metadata": {
        "id": "3kdAPaQD8qD6",
        "colab_type": "code",
        "outputId": "bab94318-e329-4ebd-e11d-dd7e47974c74",
        "colab": {
          "base_uri": "https://localhost:8080/",
          "height": 51
        }
      },
      "source": [
        "n = int(input(\"enter the value\"))\n",
        "i=1\n",
        "while(i<=n):\n",
        "    print(i,end=\" \")\n",
        "    i +=1"
      ],
      "execution_count": 0,
      "outputs": [
        {
          "output_type": "stream",
          "text": [
            "enter the value10\n",
            "1 2 3 4 5 6 7 8 9 10 "
          ],
          "name": "stdout"
        }
      ]
    },
    {
      "cell_type": "code",
      "metadata": {
        "id": "Mji6HBas9zAv",
        "colab_type": "code",
        "outputId": "b12b3701-e6dd-4995-afcb-5ddf67fdc116",
        "colab": {
          "base_uri": "https://localhost:8080/",
          "height": 51
        }
      },
      "source": [
        "n = int(input(\"enter the value\"))\n",
        "i=1\n",
        "s=0\n",
        "while(i<=n):\n",
        "    s += i\n",
        "    i += 1\n",
        "print(s)"
      ],
      "execution_count": 0,
      "outputs": [
        {
          "output_type": "stream",
          "text": [
            "enter the value10\n",
            "55\n"
          ],
          "name": "stdout"
        }
      ]
    },
    {
      "cell_type": "code",
      "metadata": {
        "id": "ofG-vCtiHqgv",
        "colab_type": "code",
        "outputId": "91f12331-28a3-40bb-82a4-a3a9f3363bba",
        "colab": {
          "base_uri": "https://localhost:8080/",
          "height": 119
        }
      },
      "source": [
        "n=int(input(\"enter the number of rows\"))\n",
        "for i in range(1,n+1):\n",
        "  for j in range(1,i+1):\n",
        "    print(\"*\",end=\" \")\n",
        "  print()\n"
      ],
      "execution_count": 0,
      "outputs": [
        {
          "output_type": "stream",
          "text": [
            "enter the number of rows5\n",
            "* \n",
            "* * \n",
            "* * * \n",
            "* * * * \n",
            "* * * * * \n"
          ],
          "name": "stdout"
        }
      ]
    },
    {
      "cell_type": "code",
      "metadata": {
        "id": "pizHs_T3LodP",
        "colab_type": "code",
        "outputId": "b7d0e7d1-d935-4bab-f356-bd8b0e516b13",
        "colab": {
          "base_uri": "https://localhost:8080/",
          "height": 204
        }
      },
      "source": [
        "n=int(input(\"enter the number\"))\n",
        "for i in range(1,11):\n",
        "  print(n,\"*\",i,\"=\",n*i)"
      ],
      "execution_count": 0,
      "outputs": [
        {
          "output_type": "stream",
          "text": [
            "enter the number5\n",
            "5 * 1 = 5\n",
            "5 * 2 = 10\n",
            "5 * 3 = 15\n",
            "5 * 4 = 20\n",
            "5 * 5 = 25\n",
            "5 * 6 = 30\n",
            "5 * 7 = 35\n",
            "5 * 8 = 40\n",
            "5 * 9 = 45\n",
            "5 * 10 = 50\n"
          ],
          "name": "stdout"
        }
      ]
    },
    {
      "cell_type": "code",
      "metadata": {
        "id": "lJDlJzuIMO7S",
        "colab_type": "code",
        "outputId": "3f2445ea-359c-47ba-e2b5-d11f210f3473",
        "colab": {
          "base_uri": "https://localhost:8080/",
          "height": 85
        }
      },
      "source": [
        "import cmath\n",
        "a=float(input(\"enter the number\"))\n",
        "b=float(input(\"enter the number\"))\n",
        "c=float(input(\"enter the number\"))\n",
        "d=(b ** 2) - (4*a*c)\n",
        "if(d>0):\n",
        "  root1=(-b+cmath.sqrt(d))/(2*a)\n",
        "  root2=(-b-cmath.sqrt(d))/(2*a)\n",
        "  print(\"roots are real and unequal:\",root1, \"and:\",root2)\n",
        "elif(d==0):\n",
        "  root1=-b/(2*a)\n",
        "  print(\"roots are real and equal:\",root1)\n",
        "else:\n",
        "  print(\"no real roots are there\")"
      ],
      "execution_count": 0,
      "outputs": [
        {
          "output_type": "stream",
          "text": [
            "enter the number2\n",
            "enter the number3\n",
            "enter the number4\n",
            "no real roots are there\n"
          ],
          "name": "stdout"
        }
      ]
    },
    {
      "cell_type": "code",
      "metadata": {
        "id": "c0xi--69QsL5",
        "colab_type": "code",
        "outputId": "b5e87654-5076-4184-f630-10448a7f22e7",
        "colab": {
          "base_uri": "https://localhost:8080/",
          "height": 85
        }
      },
      "source": [
        "import cmath\n",
        "a=float(input(\"enter the number\"))\n",
        "b=float(input(\"enter the number\"))\n",
        "c=float(input(\"enter the number\"))\n",
        "d=(b ** 2) - (4*a*c)\n",
        "if(d>0):\n",
        "  root1=(-b+cmath.sqrt(d))/(2*a)\n",
        "  root2=(-b-cmath.sqrt(d))/(2*a)\n",
        "  print(\"roots are real and unequal:\",root1, \"and:\",root2)\n",
        "elif(d==0):\n",
        "  root1=-b/(2*a)\n",
        "  print(\"roots are real and equal:\",root1)\n",
        "else:\n",
        "  print(\"no real roots are there\")"
      ],
      "execution_count": 0,
      "outputs": [
        {
          "output_type": "stream",
          "text": [
            "enter the number4\n",
            "enter the number8\n",
            "enter the number2\n",
            "roots are real and unequal: (-0.2928932188134524+0j) and: (-1.7071067811865475+0j)\n"
          ],
          "name": "stdout"
        }
      ]
    },
    {
      "cell_type": "code",
      "metadata": {
        "id": "IHcE7kqXYWwm",
        "colab_type": "code",
        "outputId": "272c1be9-3456-40ea-ba42-65946ce7952f",
        "colab": {
          "base_uri": "https://localhost:8080/",
          "height": 187
        }
      },
      "source": [
        "def fib(n):\n",
        "  a=0\n",
        "  b=1\n",
        "  print(a)\n",
        "  print(b)\n",
        "  for i in range(2,n):\n",
        "    c=a+b\n",
        "    a=b\n",
        "    b=c\n",
        "    print(c)\n",
        "fib(10)"
      ],
      "execution_count": 0,
      "outputs": [
        {
          "output_type": "stream",
          "text": [
            "0\n",
            "1\n",
            "1\n",
            "2\n",
            "3\n",
            "5\n",
            "8\n",
            "13\n",
            "21\n",
            "34\n"
          ],
          "name": "stdout"
        }
      ]
    }
  ]
}