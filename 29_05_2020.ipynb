{
  "nbformat": 4,
  "nbformat_minor": 0,
  "metadata": {
    "colab": {
      "name": "29-05-2020",
      "provenance": [],
      "collapsed_sections": [],
      "authorship_tag": "ABX9TyOaFDIfqXdneLbZjXFbZja9",
      "include_colab_link": true
    },
    "kernelspec": {
      "name": "python3",
      "display_name": "Python 3"
    }
  },
  "cells": [
    {
      "cell_type": "markdown",
      "metadata": {
        "id": "view-in-github",
        "colab_type": "text"
      },
      "source": [
        "<a href=\"https://colab.research.google.com/github/uppalasreya/AI-ML/blob/master/29_05_2020.ipynb\" target=\"_parent\"><img src=\"https://colab.research.google.com/assets/colab-badge.svg\" alt=\"Open In Colab\"/></a>"
      ]
    },
    {
      "cell_type": "code",
      "metadata": {
        "id": "O3Ca6tFljswW",
        "colab_type": "code",
        "outputId": "d8870238-21ab-4eb3-e970-2ee9d3ee7951",
        "colab": {
          "base_uri": "https://localhost:8080/",
          "height": 85
        }
      },
      "source": [
        "#Loop control statements : break,continue\n",
        "for i in range(1,11):\n",
        "    if i % 5 == 0:\n",
        "        break\n",
        "    else:\n",
        "        print(i)"
      ],
      "execution_count": 0,
      "outputs": [
        {
          "output_type": "stream",
          "text": [
            "1\n",
            "2\n",
            "3\n",
            "4\n"
          ],
          "name": "stdout"
        }
      ]
    },
    {
      "cell_type": "code",
      "metadata": {
        "id": "pzUqIgEOkAdL",
        "colab_type": "code",
        "outputId": "19b80c64-90c9-4876-dc43-e74d3b732ebc",
        "colab": {
          "base_uri": "https://localhost:8080/",
          "height": 153
        }
      },
      "source": [
        "#continue\n",
        "for i in range(1,11):\n",
        "    if i % 5 == 0:\n",
        "        continue\n",
        "    else:\n",
        "        print(i)"
      ],
      "execution_count": 0,
      "outputs": [
        {
          "output_type": "stream",
          "text": [
            "1\n",
            "2\n",
            "3\n",
            "4\n",
            "6\n",
            "7\n",
            "8\n",
            "9\n"
          ],
          "name": "stdout"
        }
      ]
    },
    {
      "cell_type": "markdown",
      "metadata": {
        "id": "a7vw4WOHn5Wx",
        "colab_type": "text"
      },
      "source": [
        "write a program to validate username and password given by the user.If the user gives wrong credentials it should ask for username and password again again until the user gives correct details."
      ]
    },
    {
      "cell_type": "code",
      "metadata": {
        "id": "DDVm3gnh3zva",
        "colab_type": "code",
        "outputId": "ead53ee4-f1cf-4468-a695-e5326e8f68eb",
        "colab": {
          "base_uri": "https://localhost:8080/",
          "height": 68
        }
      },
      "source": [
        "# password : abc123\n",
        "while True:\n",
        "    user = input(\"enter your name: \")\n",
        "    if user == \"python\":\n",
        "        pwd = input(\"enter your password: \")\n",
        "        if pwd == \"abc123\":\n",
        "            print(\"Login Success!!\")\n",
        "            break\n",
        "    else:\n",
        "        continue  \n",
        "    "
      ],
      "execution_count": 0,
      "outputs": [
        {
          "output_type": "stream",
          "text": [
            "enter your name: python\n",
            "enter your password: abc123\n",
            "Login Success!!\n"
          ],
          "name": "stdout"
        }
      ]
    },
    {
      "cell_type": "code",
      "metadata": {
        "id": "_q8EtE6O4JwI",
        "colab_type": "code",
        "colab": {}
      },
      "source": [
        "#pass -->used for creating empty blocks\n",
        "if 12 < 34:\n",
        "    pass\n",
        "else:\n",
        "    print(\"else\")"
      ],
      "execution_count": 0,
      "outputs": []
    },
    {
      "cell_type": "markdown",
      "metadata": {
        "id": "fBheEzg08f7a",
        "colab_type": "text"
      },
      "source": [
        "###Function:\n",
        "block of statements\n",
        "\n",
        "1. predefined(which are already)\n",
        "  - len(),print(),input(),min(),max()\n",
        "2. user-defined(custom function)"
      ]
    },
    {
      "cell_type": "markdown",
      "metadata": {
        "id": "snjP-gjx9bcS",
        "colab_type": "text"
      },
      "source": [
        "###User defined functions syntax:\n",
        "def function_name(parameter list):\n",
        "        statements\n",
        "        return\n"
      ]
    },
    {
      "cell_type": "code",
      "metadata": {
        "id": "_lqoxfCn-Ixl",
        "colab_type": "code",
        "outputId": "7520a087-e6c2-4853-a956-08dae0d80896",
        "colab": {
          "base_uri": "https://localhost:8080/",
          "height": 34
        }
      },
      "source": [
        "def name(username):\n",
        "  print(\"hello\",username)\n",
        "name(\"preeti\")"
      ],
      "execution_count": 0,
      "outputs": [
        {
          "output_type": "stream",
          "text": [
            "hello preeti\n"
          ],
          "name": "stdout"
        }
      ]
    },
    {
      "cell_type": "markdown",
      "metadata": {
        "id": "5mzLqQyP8hfF",
        "colab_type": "text"
      },
      "source": [
        ""
      ]
    },
    {
      "cell_type": "code",
      "metadata": {
        "id": "n0C25kBCPcBu",
        "colab_type": "code",
        "outputId": "b213d41b-b169-49cd-bb3f-f766e1ca0110",
        "colab": {
          "base_uri": "https://localhost:8080/",
          "height": 68
        }
      },
      "source": [
        "#Returning multiple values from function\n",
        "def addition(a,b):\n",
        "    return a+b,a-b,a*b,a/b\n",
        "print(addition(10,20))\n",
        "print(addition(100,200))\n",
        "print(addition(110,220))"
      ],
      "execution_count": 0,
      "outputs": [
        {
          "output_type": "stream",
          "text": [
            "(30, -10, 200, 0.5)\n",
            "(300, -100, 20000, 0.5)\n",
            "(330, -110, 24200, 0.5)\n"
          ],
          "name": "stdout"
        }
      ]
    },
    {
      "cell_type": "code",
      "metadata": {
        "id": "sRjrz4eNSu6x",
        "colab_type": "code",
        "outputId": "b2443816-516c-40c2-fe70-9e262785f828",
        "colab": {
          "base_uri": "https://localhost:8080/",
          "height": 34
        }
      },
      "source": [
        "#Multiple return values\n",
        "def arithmetic(a,b):\n",
        "    return a+b,a-b,a*b,a/b\n",
        "\n",
        "#Unpacking\n",
        "add,sub,mul,div = arithmetic(10,20)\n",
        "print(sub)"
      ],
      "execution_count": 0,
      "outputs": [
        {
          "output_type": "stream",
          "text": [
            "-10\n"
          ],
          "name": "stdout"
        }
      ]
    },
    {
      "cell_type": "markdown",
      "metadata": {
        "id": "-V52XoiOS3ON",
        "colab_type": "text"
      },
      "source": [
        "### different types of arguments\n",
        "1. Required positional argument\n",
        "2. Default argument\n",
        "3. keyword argument\n",
        "4. variable length argument"
      ]
    },
    {
      "cell_type": "code",
      "metadata": {
        "id": "3j7jPGfXgMbj",
        "colab_type": "code",
        "outputId": "429ff7d0-f0a3-428e-ccbf-c8462c0bf9bd",
        "colab": {
          "base_uri": "https://localhost:8080/",
          "height": 34
        }
      },
      "source": [
        "#Example\n",
        "def add(a,b):\n",
        "    return(a+b)\n",
        "add(10,20)\n",
        "#add(10,20,30)"
      ],
      "execution_count": 0,
      "outputs": [
        {
          "output_type": "execute_result",
          "data": {
            "text/plain": [
              "30"
            ]
          },
          "metadata": {
            "tags": []
          },
          "execution_count": 18
        }
      ]
    },
    {
      "cell_type": "code",
      "metadata": {
        "id": "OD8z_NAbgQjF",
        "colab_type": "code",
        "outputId": "a07eb62e-fcad-4290-d261-7b343bba029c",
        "colab": {
          "base_uri": "https://localhost:8080/",
          "height": 51
        }
      },
      "source": [
        "#default argument\n",
        "#Default arg should be at the end of arg list\n",
        "def add(a,b=100):\n",
        "    return a+b\n",
        "\n",
        "print(add(100))\n",
        "print(add(200,200))"
      ],
      "execution_count": 0,
      "outputs": [
        {
          "output_type": "stream",
          "text": [
            "200\n",
            "400\n"
          ],
          "name": "stdout"
        }
      ]
    },
    {
      "cell_type": "code",
      "metadata": {
        "id": "_WCf9xZtgVY-",
        "colab_type": "code",
        "outputId": "2c501966-cda2-4efa-d795-c1301933d502",
        "colab": {
          "base_uri": "https://localhost:8080/",
          "height": 68
        }
      },
      "source": [
        "#keyword arguments:\n",
        "def add(a,b):\n",
        "    print(\"a value:\",a)\n",
        "    print(\"b value:\",b)\n",
        "    return(a+b)\n",
        "add(b = 10,a = 20)"
      ],
      "execution_count": 0,
      "outputs": [
        {
          "output_type": "stream",
          "text": [
            "a value: 20\n",
            "b value: 10\n"
          ],
          "name": "stdout"
        },
        {
          "output_type": "execute_result",
          "data": {
            "text/plain": [
              "30"
            ]
          },
          "metadata": {
            "tags": []
          },
          "execution_count": 20
        }
      ]
    },
    {
      "cell_type": "code",
      "metadata": {
        "id": "cYYNM29ogcP_",
        "colab_type": "code",
        "outputId": "962a40f5-3a89-4ffd-9b6b-e9b7d8b42155",
        "colab": {
          "base_uri": "https://localhost:8080/",
          "height": 102
        }
      },
      "source": [
        "#Accepting function arguments from the user\n",
        "a = int(input(\"enter a value\"))\n",
        "b = int(input(\"enter b value\"))\n",
        "add(a,b)"
      ],
      "execution_count": 0,
      "outputs": [
        {
          "output_type": "stream",
          "text": [
            "enter a value2\n",
            "enter b value3\n",
            "a value: 2\n",
            "b value: 3\n"
          ],
          "name": "stdout"
        },
        {
          "output_type": "execute_result",
          "data": {
            "text/plain": [
              "5"
            ]
          },
          "metadata": {
            "tags": []
          },
          "execution_count": 21
        }
      ]
    },
    {
      "cell_type": "code",
      "metadata": {
        "id": "cwDxtNn0gkkr",
        "colab_type": "code",
        "outputId": "dbe27cda-d4dc-478c-9101-b8d9bd6a2ac3",
        "colab": {
          "base_uri": "https://localhost:8080/",
          "height": 68
        }
      },
      "source": [
        "#variable length argmuments\n",
        "#(120,230,34,450,460)-->Tuple\n",
        "def add(*a):\n",
        "    return sum(a)\n",
        "print(add(10,20))\n",
        "print(add(10,20,30))\n",
        "print(add(10,20,30,40))"
      ],
      "execution_count": 0,
      "outputs": [
        {
          "output_type": "stream",
          "text": [
            "30\n",
            "60\n",
            "100\n"
          ],
          "name": "stdout"
        }
      ]
    },
    {
      "cell_type": "code",
      "metadata": {
        "id": "Lc1Z4K4rhFNU",
        "colab_type": "code",
        "outputId": "0799b73d-3645-41dd-f179-e1b3634e0a08",
        "colab": {
          "base_uri": "https://localhost:8080/",
          "height": 68
        }
      },
      "source": [
        "#variable length argmuments\n",
        "#(120,230,34,450,460)-->Tuple\n",
        "def mul(*a):\n",
        "  m=1\n",
        "  for i in a:\n",
        "      m = m*i\n",
        "  return m\n",
        "print(mul(10,20))\n",
        "print(mul(10,20,30))\n",
        "print(mul(10,20,30,40))\n"
      ],
      "execution_count": 0,
      "outputs": [
        {
          "output_type": "stream",
          "text": [
            "200\n",
            "6000\n",
            "240000\n"
          ],
          "name": "stdout"
        }
      ]
    },
    {
      "cell_type": "code",
      "metadata": {
        "id": "pllC5xMLiN6b",
        "colab_type": "code",
        "outputId": "20297ee5-303a-46c1-d38e-edc4adbc9957",
        "colab": {
          "base_uri": "https://localhost:8080/",
          "height": 51
        }
      },
      "source": [
        "#Nested Functions : square,cube\n",
        "def square(a):\n",
        "    return a*a\n",
        "\n",
        "def cube(x):\n",
        "    return square(x)*x\n",
        "\n",
        "print(square(10))\n",
        "print(cube(10))"
      ],
      "execution_count": 0,
      "outputs": [
        {
          "output_type": "stream",
          "text": [
            "100\n",
            "1000\n"
          ],
          "name": "stdout"
        }
      ]
    },
    {
      "cell_type": "markdown",
      "metadata": {
        "id": "21mw8W1vj78Q",
        "colab_type": "text"
      },
      "source": [
        "### Recursive Function:\n",
        "1. Factorial of a number\n",
        "2. Fibonacci series"
      ]
    },
    {
      "cell_type": "code",
      "metadata": {
        "id": "Xr-SVz4dnjus",
        "colab_type": "code",
        "outputId": "d391aba4-fe7a-4e01-931c-ee8de6d65859",
        "colab": {
          "base_uri": "https://localhost:8080/",
          "height": 187
        }
      },
      "source": [
        "def fib(n):\n",
        "  a = 0\n",
        "  b = 1\n",
        "  print(a)\n",
        "  print(b)\n",
        "  for i in range(2,n):\n",
        "    c = a+b;\n",
        "    a = b\n",
        "    b = c\n",
        "    print(c)\n",
        "fib(10)"
      ],
      "execution_count": 0,
      "outputs": [
        {
          "output_type": "stream",
          "text": [
            "0\n",
            "1\n",
            "1\n",
            "2\n",
            "3\n",
            "5\n",
            "8\n",
            "13\n",
            "21\n",
            "34\n"
          ],
          "name": "stdout"
        }
      ]
    },
    {
      "cell_type": "code",
      "metadata": {
        "id": "00OEOiDVqhpp",
        "colab_type": "code",
        "outputId": "fd325b58-e419-45b5-d627-a449af4fe1c1",
        "colab": {
          "base_uri": "https://localhost:8080/",
          "height": 34
        }
      },
      "source": [
        "def fact(n):\n",
        "  f = 1\n",
        "  for i in range(1,n+1):\n",
        "    f=f*i\n",
        "  return f\n",
        "n = 5\n",
        "result = fact(n)\n",
        "print(result)"
      ],
      "execution_count": 0,
      "outputs": [
        {
          "output_type": "stream",
          "text": [
            "120\n"
          ],
          "name": "stdout"
        }
      ]
    },
    {
      "cell_type": "code",
      "metadata": {
        "id": "0HXOKpqasEcT",
        "colab_type": "code",
        "outputId": "2bfa9210-5a1c-490d-aaa2-dcd46001cb5a",
        "colab": {
          "base_uri": "https://localhost:8080/",
          "height": 34
        }
      },
      "source": [
        "def fact(n):\n",
        "  f = 1\n",
        "  for i in range(1,n+1):\n",
        "    f=f*i\n",
        "  print(f)\n",
        "fact(5)"
      ],
      "execution_count": 0,
      "outputs": [
        {
          "output_type": "stream",
          "text": [
            "120\n"
          ],
          "name": "stdout"
        }
      ]
    },
    {
      "cell_type": "markdown",
      "metadata": {
        "id": "JqIeCqoSkAy9",
        "colab_type": "text"
      },
      "source": [
        "###Data structures:\n",
        "1. List :\n",
        "  - enclosed by [] and elements are separated by ,\n",
        "  - indexed\n",
        "  - ordered\n",
        "  - allows Duplicate values\n",
        "  - Mutable\n",
        "  - allows Any type of values"
      ]
    },
    {
      "cell_type": "code",
      "metadata": {
        "id": "cvLLBZwkkTKT",
        "colab_type": "code",
        "outputId": "41e4a8ec-10fb-4383-8590-321d3f96ab0d",
        "colab": {
          "base_uri": "https://localhost:8080/",
          "height": 119
        }
      },
      "source": [
        "#operators supported by list : +,*,[],[:],in,not in\n",
        "list1 = [1,2,3]\n",
        "list2 = [10,20,30]\n",
        "print(list1+list2) #concatenation\n",
        "print(list1*3) #Repitition\n",
        "print(list1[1]) #2\n",
        "print(list1[1:3]) #[2,3]\n",
        "print(2 in list1) # True\n",
        "print(200 in list1) #False"
      ],
      "execution_count": 0,
      "outputs": [
        {
          "output_type": "stream",
          "text": [
            "[1, 2, 3, 10, 20, 30]\n",
            "[1, 2, 3, 1, 2, 3, 1, 2, 3]\n",
            "2\n",
            "[2, 3]\n",
            "True\n",
            "False\n"
          ],
          "name": "stdout"
        }
      ]
    },
    {
      "cell_type": "code",
      "metadata": {
        "id": "g8X8HjqGmMxw",
        "colab_type": "code",
        "outputId": "5e042e56-627c-4756-d349-3be7c7d555e4",
        "colab": {
          "base_uri": "https://localhost:8080/",
          "height": 102
        }
      },
      "source": [
        "#Built-in functions:len(),min(),max(),list()\n",
        "list1 = [1,2,3,40]\n",
        "s1 = \"python\"\n",
        "print(len(list1))\n",
        "print(min(list1))\n",
        "print(max(list1))\n",
        "list2 = list(s1)\n",
        "print(list2)\n",
        "list1[-1] = 100\n",
        "print(list1)"
      ],
      "execution_count": 0,
      "outputs": [
        {
          "output_type": "stream",
          "text": [
            "4\n",
            "1\n",
            "40\n",
            "['p', 'y', 't', 'h', 'o', 'n']\n",
            "[1, 2, 3, 100]\n"
          ],
          "name": "stdout"
        }
      ]
    }
  ]
}